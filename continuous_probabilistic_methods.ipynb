{
 "cells": [
  {
   "cell_type": "markdown",
   "metadata": {},
   "source": [
    "# Exercises"
   ]
  },
  {
   "cell_type": "code",
   "execution_count": 1,
   "metadata": {},
   "outputs": [],
   "source": [
    "import pandas as pd\n",
    "import numpy as np\n",
    "import matplotlib.pyplot as plt\n",
    "import seaborn as sns"
   ]
  },
  {
   "cell_type": "markdown",
   "metadata": {},
   "source": [
    "using: ['Lemonade'](https://gist.githubusercontent.com/ryanorsinger/19bc7eccd6279661bd13307026628ace/raw/e4b5d6787015a4782f96cad6d1d62a8bdbac54c7/lemonade.csv)"
   ]
  },
  {
   "cell_type": "markdown",
   "metadata": {},
   "source": [
    "0. Define a function named get_lower_and_upper_bounds that has two arguments. The first argument is a pandas Series. The second argument is the multiplier, which should have a default argument of 1.5."
   ]
  },
  {
   "cell_type": "markdown",
   "metadata": {},
   "source": [
    "1. Using lemonade.csv dataset and focusing on continuous variables:\n",
    "\n",
    "- a. Use the IQR Range Rule and the upper and lower bounds to identify the lower outliers of each column of lemonade.csv, using the multiplier of 1.5. Do these lower outliers make sense?Which outliers should be kept?\n",
    "- b. Use the IQR Range Rule and the upper and lower bounds to identify the upper outliers of each column of lemonade.csv, using the multiplier of 1.5. Do these lower outliers make sense?Which outliers should be kept?\n",
    "- c. Using the multiplier of 3, IQR Range Rule, and the lower and upper bounds, identify the outliers below the lower bound in each colum of lemonade.csv. Do these lower outliers make sense?Which outliers should be kept?\n",
    "- d. Using the multiplier of 3, IQR Range Rule, and the lower and upper bounds, identify the outliers above the upper_bound in each colum of lemonade.csv. Do these upper outliers make sense? Which outliers should be kept?"
   ]
  },
  {
   "cell_type": "markdown",
   "metadata": {},
   "source": [
    "2. Identify if any columns in lemonade.csv are normally distributed. For normally distributed columns:\n",
    "\n",
    "- a. Use a 2 sigma decision rule to isolate the outliers.\n",
    "- b. Do these make sense?\n",
    "- c. Should certain outliers be kept or removed?"
   ]
  },
  {
   "cell_type": "markdown",
   "metadata": {},
   "source": [
    "3. Now use a 3 sigma decision rule to isolate the outliers in the normally distributed columns from lemonade.csv"
   ]
  },
  {
   "cell_type": "markdown",
   "metadata": {},
   "source": [
    "<hr style=\"border:2px solid black\"> </hr>"
   ]
  },
  {
   "cell_type": "code",
   "execution_count": 2,
   "metadata": {},
   "outputs": [],
   "source": [
    "#read in the clipboard from webpage\n",
    "#column seperator is the comma\n",
    "df = pd.read_clipboard(sep = ',')"
   ]
  },
  {
   "cell_type": "code",
   "execution_count": 3,
   "metadata": {},
   "outputs": [
    {
     "data": {
      "text/html": [
       "<div>\n",
       "<style scoped>\n",
       "    .dataframe tbody tr th:only-of-type {\n",
       "        vertical-align: middle;\n",
       "    }\n",
       "\n",
       "    .dataframe tbody tr th {\n",
       "        vertical-align: top;\n",
       "    }\n",
       "\n",
       "    .dataframe thead th {\n",
       "        text-align: right;\n",
       "    }\n",
       "</style>\n",
       "<table border=\"1\" class=\"dataframe\">\n",
       "  <thead>\n",
       "    <tr style=\"text-align: right;\">\n",
       "      <th></th>\n",
       "      <th>Date</th>\n",
       "      <th>Day</th>\n",
       "      <th>Temperature</th>\n",
       "      <th>Rainfall</th>\n",
       "      <th>Flyers</th>\n",
       "      <th>Price</th>\n",
       "      <th>Sales</th>\n",
       "    </tr>\n",
       "  </thead>\n",
       "  <tbody>\n",
       "    <tr>\n",
       "      <th>0</th>\n",
       "      <td>1/1/17</td>\n",
       "      <td>Sunday</td>\n",
       "      <td>27.0</td>\n",
       "      <td>2.00</td>\n",
       "      <td>15</td>\n",
       "      <td>0.5</td>\n",
       "      <td>10</td>\n",
       "    </tr>\n",
       "    <tr>\n",
       "      <th>1</th>\n",
       "      <td>1/2/17</td>\n",
       "      <td>Monday</td>\n",
       "      <td>28.9</td>\n",
       "      <td>1.33</td>\n",
       "      <td>15</td>\n",
       "      <td>0.5</td>\n",
       "      <td>13</td>\n",
       "    </tr>\n",
       "    <tr>\n",
       "      <th>2</th>\n",
       "      <td>1/3/17</td>\n",
       "      <td>Tuesday</td>\n",
       "      <td>34.5</td>\n",
       "      <td>1.33</td>\n",
       "      <td>27</td>\n",
       "      <td>0.5</td>\n",
       "      <td>15</td>\n",
       "    </tr>\n",
       "    <tr>\n",
       "      <th>3</th>\n",
       "      <td>1/4/17</td>\n",
       "      <td>Wednesday</td>\n",
       "      <td>44.1</td>\n",
       "      <td>1.05</td>\n",
       "      <td>28</td>\n",
       "      <td>0.5</td>\n",
       "      <td>17</td>\n",
       "    </tr>\n",
       "    <tr>\n",
       "      <th>4</th>\n",
       "      <td>1/5/17</td>\n",
       "      <td>Thursday</td>\n",
       "      <td>42.4</td>\n",
       "      <td>1.00</td>\n",
       "      <td>33</td>\n",
       "      <td>0.5</td>\n",
       "      <td>18</td>\n",
       "    </tr>\n",
       "  </tbody>\n",
       "</table>\n",
       "</div>"
      ],
      "text/plain": [
       "     Date        Day  Temperature  Rainfall  Flyers  Price  Sales\n",
       "0  1/1/17     Sunday         27.0      2.00      15    0.5     10\n",
       "1  1/2/17     Monday         28.9      1.33      15    0.5     13\n",
       "2  1/3/17    Tuesday         34.5      1.33      27    0.5     15\n",
       "3  1/4/17  Wednesday         44.1      1.05      28    0.5     17\n",
       "4  1/5/17   Thursday         42.4      1.00      33    0.5     18"
      ]
     },
     "execution_count": 3,
     "metadata": {},
     "output_type": "execute_result"
    }
   ],
   "source": [
    "df.head()"
   ]
  },
  {
   "cell_type": "code",
   "execution_count": 4,
   "metadata": {},
   "outputs": [
    {
     "name": "stdout",
     "output_type": "stream",
     "text": [
      "<class 'pandas.core.frame.DataFrame'>\n",
      "RangeIndex: 365 entries, 0 to 364\n",
      "Data columns (total 7 columns):\n",
      " #   Column       Non-Null Count  Dtype  \n",
      "---  ------       --------------  -----  \n",
      " 0   Date         365 non-null    object \n",
      " 1   Day          365 non-null    object \n",
      " 2   Temperature  365 non-null    float64\n",
      " 3   Rainfall     365 non-null    float64\n",
      " 4   Flyers       365 non-null    int64  \n",
      " 5   Price        365 non-null    float64\n",
      " 6   Sales        365 non-null    int64  \n",
      "dtypes: float64(3), int64(2), object(2)\n",
      "memory usage: 20.1+ KB\n"
     ]
    }
   ],
   "source": [
    "df.info()"
   ]
  },
  {
   "cell_type": "code",
   "execution_count": 5,
   "metadata": {},
   "outputs": [],
   "source": [
    "#change the dtype\n",
    "df.Date = pd.to_datetime(df.Date)"
   ]
  },
  {
   "cell_type": "code",
   "execution_count": 6,
   "metadata": {},
   "outputs": [],
   "source": [
    "#set Date as index\n",
    "df = df.set_index('Date')"
   ]
  },
  {
   "cell_type": "code",
   "execution_count": 7,
   "metadata": {},
   "outputs": [],
   "source": [
    "#create month and year columns to better understand data\n",
    "df['Month'] = df.index.month_name()\n",
    "df['Year'] = df.index.year"
   ]
  },
  {
   "cell_type": "code",
   "execution_count": 8,
   "metadata": {},
   "outputs": [
    {
     "data": {
      "text/html": [
       "<div>\n",
       "<style scoped>\n",
       "    .dataframe tbody tr th:only-of-type {\n",
       "        vertical-align: middle;\n",
       "    }\n",
       "\n",
       "    .dataframe tbody tr th {\n",
       "        vertical-align: top;\n",
       "    }\n",
       "\n",
       "    .dataframe thead th {\n",
       "        text-align: right;\n",
       "    }\n",
       "</style>\n",
       "<table border=\"1\" class=\"dataframe\">\n",
       "  <thead>\n",
       "    <tr style=\"text-align: right;\">\n",
       "      <th></th>\n",
       "      <th>Day</th>\n",
       "      <th>Temperature</th>\n",
       "      <th>Rainfall</th>\n",
       "      <th>Flyers</th>\n",
       "      <th>Price</th>\n",
       "      <th>Sales</th>\n",
       "      <th>Month</th>\n",
       "      <th>Year</th>\n",
       "    </tr>\n",
       "    <tr>\n",
       "      <th>Date</th>\n",
       "      <th></th>\n",
       "      <th></th>\n",
       "      <th></th>\n",
       "      <th></th>\n",
       "      <th></th>\n",
       "      <th></th>\n",
       "      <th></th>\n",
       "      <th></th>\n",
       "    </tr>\n",
       "  </thead>\n",
       "  <tbody>\n",
       "    <tr>\n",
       "      <th>2017-01-01</th>\n",
       "      <td>Sunday</td>\n",
       "      <td>27.0</td>\n",
       "      <td>2.00</td>\n",
       "      <td>15</td>\n",
       "      <td>0.5</td>\n",
       "      <td>10</td>\n",
       "      <td>January</td>\n",
       "      <td>2017</td>\n",
       "    </tr>\n",
       "    <tr>\n",
       "      <th>2017-01-02</th>\n",
       "      <td>Monday</td>\n",
       "      <td>28.9</td>\n",
       "      <td>1.33</td>\n",
       "      <td>15</td>\n",
       "      <td>0.5</td>\n",
       "      <td>13</td>\n",
       "      <td>January</td>\n",
       "      <td>2017</td>\n",
       "    </tr>\n",
       "    <tr>\n",
       "      <th>2017-01-03</th>\n",
       "      <td>Tuesday</td>\n",
       "      <td>34.5</td>\n",
       "      <td>1.33</td>\n",
       "      <td>27</td>\n",
       "      <td>0.5</td>\n",
       "      <td>15</td>\n",
       "      <td>January</td>\n",
       "      <td>2017</td>\n",
       "    </tr>\n",
       "    <tr>\n",
       "      <th>2017-01-04</th>\n",
       "      <td>Wednesday</td>\n",
       "      <td>44.1</td>\n",
       "      <td>1.05</td>\n",
       "      <td>28</td>\n",
       "      <td>0.5</td>\n",
       "      <td>17</td>\n",
       "      <td>January</td>\n",
       "      <td>2017</td>\n",
       "    </tr>\n",
       "    <tr>\n",
       "      <th>2017-01-05</th>\n",
       "      <td>Thursday</td>\n",
       "      <td>42.4</td>\n",
       "      <td>1.00</td>\n",
       "      <td>33</td>\n",
       "      <td>0.5</td>\n",
       "      <td>18</td>\n",
       "      <td>January</td>\n",
       "      <td>2017</td>\n",
       "    </tr>\n",
       "  </tbody>\n",
       "</table>\n",
       "</div>"
      ],
      "text/plain": [
       "                  Day  Temperature  Rainfall  Flyers  Price  Sales    Month  \\\n",
       "Date                                                                          \n",
       "2017-01-01     Sunday         27.0      2.00      15    0.5     10  January   \n",
       "2017-01-02     Monday         28.9      1.33      15    0.5     13  January   \n",
       "2017-01-03    Tuesday         34.5      1.33      27    0.5     15  January   \n",
       "2017-01-04  Wednesday         44.1      1.05      28    0.5     17  January   \n",
       "2017-01-05   Thursday         42.4      1.00      33    0.5     18  January   \n",
       "\n",
       "            Year  \n",
       "Date              \n",
       "2017-01-01  2017  \n",
       "2017-01-02  2017  \n",
       "2017-01-03  2017  \n",
       "2017-01-04  2017  \n",
       "2017-01-05  2017  "
      ]
     },
     "execution_count": 8,
     "metadata": {},
     "output_type": "execute_result"
    }
   ],
   "source": [
    "#take a look\n",
    "df.head()"
   ]
  },
  {
   "cell_type": "code",
   "execution_count": 9,
   "metadata": {},
   "outputs": [
    {
     "name": "stdout",
     "output_type": "stream",
     "text": [
      "<class 'pandas.core.frame.DataFrame'>\n",
      "DatetimeIndex: 365 entries, 2017-01-01 to 2017-12-31\n",
      "Data columns (total 8 columns):\n",
      " #   Column       Non-Null Count  Dtype  \n",
      "---  ------       --------------  -----  \n",
      " 0   Day          365 non-null    object \n",
      " 1   Temperature  365 non-null    float64\n",
      " 2   Rainfall     365 non-null    float64\n",
      " 3   Flyers       365 non-null    int64  \n",
      " 4   Price        365 non-null    float64\n",
      " 5   Sales        365 non-null    int64  \n",
      " 6   Month        365 non-null    object \n",
      " 7   Year         365 non-null    int64  \n",
      "dtypes: float64(3), int64(3), object(2)\n",
      "memory usage: 25.7+ KB\n"
     ]
    }
   ],
   "source": [
    "#look at dtypes\n",
    "df.info()"
   ]
  },
  {
   "cell_type": "markdown",
   "metadata": {},
   "source": [
    "____________________________________________"
   ]
  },
  {
   "cell_type": "markdown",
   "metadata": {},
   "source": [
    "### 0: create a function"
   ]
  },
  {
   "cell_type": "code",
   "execution_count": 10,
   "metadata": {},
   "outputs": [],
   "source": [
    "#function that prints lower and upper bounds\n",
    "def get_lower_and_upper_bounds(df, variable, multiplier):\n",
    "    '''\n",
    "    This function takes in df, desired variable, and multiplier\n",
    "    and outputs the calculated lower and upper bound to locate outliers in variables\n",
    "    additionally, a boxplot and histplot are created\n",
    "    '''\n",
    "    q1, q3 = np.percentile(df[variable], [25,75])\n",
    "    iqr = q3 - q1\n",
    "    lower_bound = (round(q1 - (multiplier * iqr),2))\n",
    "    upper_bound = q3 + (multiplier * iqr)\n",
    "    \n",
    "    #print upper and lower bounds\n",
    "    print(f'Using {variable}:')\n",
    "    print(f'the lower bound is: {lower_bound}')  \n",
    "    print(f'the upper bound is: {upper_bound}')\n",
    "    \n",
    "    #create plots\n",
    "    plt.figure(figsize=(16,4))\n",
    "    plt.subplot(1, 2, 1)\n",
    "    #histplot\n",
    "    sns.histplot(data = df, x = variable, kde=True)\n",
    "    plt.title(variable)\n",
    "    plt.subplot(1, 2, 2)\n",
    "    #boxplot\n",
    "    sns.boxplot(x=variable, data=df)\n",
    "    plt.axvline(lower_bound, color='red')\n",
    "    plt.axvline(upper_bound, color='red')\n",
    "    plt.title(variable)\n",
    "    plt.show()"
   ]
  },
  {
   "cell_type": "markdown",
   "metadata": {},
   "source": [
    "______________________________________________"
   ]
  },
  {
   "cell_type": "markdown",
   "metadata": {},
   "source": [
    "### 1 Using lemonade.csv dataset and focusing on continuous variables:"
   ]
  },
  {
   "cell_type": "markdown",
   "metadata": {},
   "source": [
    "#### 1a. Use the IQR Range Rule and the upper and lower bounds to identify the lower outliers of each column of lemonade.csv, using the multiplier of 1.5. \n",
    "<br>\n",
    "\n",
    "- Do these lower outliers make sense?\n",
    "    - Answer: no\n",
    "        - cannot pass out -40 flyers\n",
    "        - prices are all $0.50\n",
    "        \n",
    "<br>    \n",
    "\n",
    "- Which outliers should be kept?"
   ]
  },
  {
   "cell_type": "code",
   "execution_count": 11,
   "metadata": {},
   "outputs": [
    {
     "name": "stdout",
     "output_type": "stream",
     "text": [
      "Using Temperature:\n",
      "the lower bound is: 16.7\n",
      "the upper bound is: 104.7\n"
     ]
    },
    {
     "data": {
      "image/png": "[encoded data removed]",
      "text/plain": [
       "<Figure size 1152x288 with 2 Axes>"
      ]
     },
     "metadata": {
      "needs_background": "light"
     },
     "output_type": "display_data"
    }
   ],
   "source": [
    "get_lower_and_upper_bounds(df, 'Temperature', 1.5)"
   ]
  },
  {
   "cell_type": "code",
   "execution_count": 12,
   "metadata": {},
   "outputs": [
    {
     "data": {
      "text/plain": [
       "<matplotlib.collections.PathCollection at 0x7fe74002f370>"
      ]
     },
     "execution_count": 12,
     "metadata": {},
     "output_type": "execute_result"
    },
    {
     "data": {
      "image/png": "[encoded data removed]",
      "text/plain": [
       "<Figure size 432x288 with 1 Axes>"
      ]
     },
     "metadata": {
      "needs_background": "light"
     },
     "output_type": "display_data"
    }
   ],
   "source": [
    "#look further into that hot day\n",
    "plt.scatter(df.Month, df.Temperature)\n",
    "\n",
    "#not very likely that it be 'that' hot in february"
   ]
  },
  {
   "cell_type": "code",
   "execution_count": 13,
   "metadata": {},
   "outputs": [
    {
     "data": {
      "text/html": [
       "<div>\n",
       "<style scoped>\n",
       "    .dataframe tbody tr th:only-of-type {\n",
       "        vertical-align: middle;\n",
       "    }\n",
       "\n",
       "    .dataframe tbody tr th {\n",
       "        vertical-align: top;\n",
       "    }\n",
       "\n",
       "    .dataframe thead th {\n",
       "        text-align: right;\n",
       "    }\n",
       "</style>\n",
       "<table border=\"1\" class=\"dataframe\">\n",
       "  <thead>\n",
       "    <tr style=\"text-align: right;\">\n",
       "      <th></th>\n",
       "      <th>Day</th>\n",
       "      <th>Temperature</th>\n",
       "      <th>Rainfall</th>\n",
       "      <th>Flyers</th>\n",
       "      <th>Price</th>\n",
       "      <th>Sales</th>\n",
       "      <th>Month</th>\n",
       "      <th>Year</th>\n",
       "    </tr>\n",
       "    <tr>\n",
       "      <th>Date</th>\n",
       "      <th></th>\n",
       "      <th></th>\n",
       "      <th></th>\n",
       "      <th></th>\n",
       "      <th></th>\n",
       "      <th></th>\n",
       "      <th></th>\n",
       "      <th></th>\n",
       "    </tr>\n",
       "  </thead>\n",
       "  <tbody>\n",
       "    <tr>\n",
       "      <th>2017-02-11</th>\n",
       "      <td>Saturday</td>\n",
       "      <td>212.0</td>\n",
       "      <td>0.91</td>\n",
       "      <td>35</td>\n",
       "      <td>0.5</td>\n",
       "      <td>21</td>\n",
       "      <td>February</td>\n",
       "      <td>2017</td>\n",
       "    </tr>\n",
       "  </tbody>\n",
       "</table>\n",
       "</div>"
      ],
      "text/plain": [
       "                 Day  Temperature  Rainfall  Flyers  Price  Sales     Month  \\\n",
       "Date                                                                          \n",
       "2017-02-11  Saturday        212.0      0.91      35    0.5     21  February   \n",
       "\n",
       "            Year  \n",
       "Date              \n",
       "2017-02-11  2017  "
      ]
     },
     "execution_count": 13,
     "metadata": {},
     "output_type": "execute_result"
    }
   ],
   "source": [
    "#look at specific days where temp were outliers\n",
    "df[df['Temperature'] > 104]"
   ]
  },
  {
   "cell_type": "code",
   "execution_count": 14,
   "metadata": {},
   "outputs": [
    {
     "name": "stdout",
     "output_type": "stream",
     "text": [
      "Using Rainfall:\n",
      "the lower bound is: 0.26\n",
      "the upper bound is: 1.3\n"
     ]
    },
    {
     "data": {
      "image/png": "[encoded data removed]",
      "text/plain": [
       "<Figure size 1152x288 with 2 Axes>"
      ]
     },
     "metadata": {
      "needs_background": "light"
     },
     "output_type": "display_data"
    }
   ],
   "source": [
    "get_lower_and_upper_bounds(df, 'Rainfall', 1.5)"
   ]
  },
  {
   "cell_type": "code",
   "execution_count": 15,
   "metadata": {},
   "outputs": [
    {
     "name": "stdout",
     "output_type": "stream",
     "text": [
      "Using Flyers:\n",
      "the lower bound is: 4.0\n",
      "the upper bound is: 76.0\n"
     ]
    },
    {
     "data": {
      "image/png": "[encoded data removed]",
      "text/plain": [
       "<Figure size 1152x288 with 2 Axes>"
      ]
     },
     "metadata": {
      "needs_background": "light"
     },
     "output_type": "display_data"
    }
   ],
   "source": [
    "get_lower_and_upper_bounds(df, 'Flyers', 1.5)"
   ]
  },
  {
   "cell_type": "code",
   "execution_count": 16,
   "metadata": {},
   "outputs": [
    {
     "name": "stdout",
     "output_type": "stream",
     "text": [
      "Using Price:\n",
      "the lower bound is: 0.5\n",
      "the upper bound is: 0.5\n"
     ]
    },
    {
     "name": "stderr",
     "output_type": "stream",
     "text": [
      "/opt/homebrew/anaconda3/lib/python3.8/site-packages/seaborn/distributions.py:305: UserWarning: Dataset has 0 variance; skipping density estimate.\n",
      "  warnings.warn(msg, UserWarning)\n"
     ]
    },
    {
     "data": {
      "image/png": "[encoded data removed]",
      "text/plain": [
       "<Figure size 1152x288 with 2 Axes>"
      ]
     },
     "metadata": {
      "needs_background": "light"
     },
     "output_type": "display_data"
    }
   ],
   "source": [
    "get_lower_and_upper_bounds(df, 'Price', 1.5)"
   ]
  },
  {
   "cell_type": "code",
   "execution_count": 17,
   "metadata": {},
   "outputs": [
    {
     "name": "stdout",
     "output_type": "stream",
     "text": [
      "Using Sales:\n",
      "the lower bound is: 5.0\n",
      "the upper bound is: 45.0\n"
     ]
    },
    {
     "data": {
      "image/png": "[encoded data removed]",
      "text/plain": [
       "<Figure size 1152x288 with 2 Axes>"
      ]
     },
     "metadata": {
      "needs_background": "light"
     },
     "output_type": "display_data"
    }
   ],
   "source": [
    "get_lower_and_upper_bounds(df, 'Sales', 1.5)"
   ]
  },
  {
   "cell_type": "code",
   "execution_count": 18,
   "metadata": {},
   "outputs": [
    {
     "data": {
      "text/plain": [
       "<matplotlib.collections.PathCollection at 0x7fe732ad7c70>"
      ]
     },
     "execution_count": 18,
     "metadata": {},
     "output_type": "execute_result"
    },
    {
     "data": {
      "image/png": "[encoded data removed]",
      "text/plain": [
       "<Figure size 432x288 with 1 Axes>"
      ]
     },
     "metadata": {
      "needs_background": "light"
     },
     "output_type": "display_data"
    }
   ],
   "source": [
    "#look into that high sell period\n",
    "plt.scatter(df.Month, df.Sales)\n",
    "\n",
    "#looks like high sales were in july!\n",
    "#hot months and july 4 holiday so it is possible"
   ]
  },
  {
   "cell_type": "code",
   "execution_count": 19,
   "metadata": {},
   "outputs": [
    {
     "data": {
      "text/html": [
       "<div>\n",
       "<style scoped>\n",
       "    .dataframe tbody tr th:only-of-type {\n",
       "        vertical-align: middle;\n",
       "    }\n",
       "\n",
       "    .dataframe tbody tr th {\n",
       "        vertical-align: top;\n",
       "    }\n",
       "\n",
       "    .dataframe thead th {\n",
       "        text-align: right;\n",
       "    }\n",
       "</style>\n",
       "<table border=\"1\" class=\"dataframe\">\n",
       "  <thead>\n",
       "    <tr style=\"text-align: right;\">\n",
       "      <th></th>\n",
       "      <th>Day</th>\n",
       "      <th>Temperature</th>\n",
       "      <th>Rainfall</th>\n",
       "      <th>Flyers</th>\n",
       "      <th>Price</th>\n",
       "      <th>Sales</th>\n",
       "      <th>Month</th>\n",
       "      <th>Year</th>\n",
       "    </tr>\n",
       "    <tr>\n",
       "      <th>Date</th>\n",
       "      <th></th>\n",
       "      <th></th>\n",
       "      <th></th>\n",
       "      <th></th>\n",
       "      <th></th>\n",
       "      <th></th>\n",
       "      <th></th>\n",
       "      <th></th>\n",
       "    </tr>\n",
       "  </thead>\n",
       "  <tbody>\n",
       "    <tr>\n",
       "      <th>2017-07-01</th>\n",
       "      <td>Saturday</td>\n",
       "      <td>102.9</td>\n",
       "      <td>0.47</td>\n",
       "      <td>59</td>\n",
       "      <td>0.5</td>\n",
       "      <td>143</td>\n",
       "      <td>July</td>\n",
       "      <td>2017</td>\n",
       "    </tr>\n",
       "    <tr>\n",
       "      <th>2017-07-02</th>\n",
       "      <td>Sunday</td>\n",
       "      <td>93.4</td>\n",
       "      <td>0.51</td>\n",
       "      <td>68</td>\n",
       "      <td>0.5</td>\n",
       "      <td>158</td>\n",
       "      <td>July</td>\n",
       "      <td>2017</td>\n",
       "    </tr>\n",
       "    <tr>\n",
       "      <th>2017-07-03</th>\n",
       "      <td>Monday</td>\n",
       "      <td>81.5</td>\n",
       "      <td>0.54</td>\n",
       "      <td>68</td>\n",
       "      <td>0.5</td>\n",
       "      <td>235</td>\n",
       "      <td>July</td>\n",
       "      <td>2017</td>\n",
       "    </tr>\n",
       "    <tr>\n",
       "      <th>2017-07-04</th>\n",
       "      <td>Tuesday</td>\n",
       "      <td>84.2</td>\n",
       "      <td>0.59</td>\n",
       "      <td>49</td>\n",
       "      <td>0.5</td>\n",
       "      <td>534</td>\n",
       "      <td>July</td>\n",
       "      <td>2017</td>\n",
       "    </tr>\n",
       "  </tbody>\n",
       "</table>\n",
       "</div>"
      ],
      "text/plain": [
       "                 Day  Temperature  Rainfall  Flyers  Price  Sales Month  Year\n",
       "Date                                                                         \n",
       "2017-07-01  Saturday        102.9      0.47      59    0.5    143  July  2017\n",
       "2017-07-02    Sunday         93.4      0.51      68    0.5    158  July  2017\n",
       "2017-07-03    Monday         81.5      0.54      68    0.5    235  July  2017\n",
       "2017-07-04   Tuesday         84.2      0.59      49    0.5    534  July  2017"
      ]
     },
     "execution_count": 19,
     "metadata": {},
     "output_type": "execute_result"
    }
   ],
   "source": [
    "#look at specific days where sales were outliers\n",
    "df[df['Sales'] > 45]"
   ]
  },
  {
   "cell_type": "code",
   "execution_count": 20,
   "metadata": {},
   "outputs": [
    {
     "data": {
      "text/html": [
       "<div>\n",
       "<style scoped>\n",
       "    .dataframe tbody tr th:only-of-type {\n",
       "        vertical-align: middle;\n",
       "    }\n",
       "\n",
       "    .dataframe tbody tr th {\n",
       "        vertical-align: top;\n",
       "    }\n",
       "\n",
       "    .dataframe thead th {\n",
       "        text-align: right;\n",
       "    }\n",
       "</style>\n",
       "<table border=\"1\" class=\"dataframe\">\n",
       "  <thead>\n",
       "    <tr style=\"text-align: right;\">\n",
       "      <th></th>\n",
       "      <th>Day</th>\n",
       "      <th>Temperature</th>\n",
       "      <th>Rainfall</th>\n",
       "      <th>Flyers</th>\n",
       "      <th>Price</th>\n",
       "      <th>Sales</th>\n",
       "      <th>Month</th>\n",
       "      <th>Year</th>\n",
       "    </tr>\n",
       "    <tr>\n",
       "      <th>Date</th>\n",
       "      <th></th>\n",
       "      <th></th>\n",
       "      <th></th>\n",
       "      <th></th>\n",
       "      <th></th>\n",
       "      <th></th>\n",
       "      <th></th>\n",
       "      <th></th>\n",
       "    </tr>\n",
       "  </thead>\n",
       "  <tbody>\n",
       "    <tr>\n",
       "      <th>2017-12-31</th>\n",
       "      <td>Sunday</td>\n",
       "      <td>15.1</td>\n",
       "      <td>2.5</td>\n",
       "      <td>9</td>\n",
       "      <td>0.5</td>\n",
       "      <td>7</td>\n",
       "      <td>December</td>\n",
       "      <td>2017</td>\n",
       "    </tr>\n",
       "  </tbody>\n",
       "</table>\n",
       "</div>"
      ],
      "text/plain": [
       "               Day  Temperature  Rainfall  Flyers  Price  Sales     Month  \\\n",
       "Date                                                                        \n",
       "2017-12-31  Sunday         15.1       2.5       9    0.5      7  December   \n",
       "\n",
       "            Year  \n",
       "Date              \n",
       "2017-12-31  2017  "
      ]
     },
     "execution_count": 20,
     "metadata": {},
     "output_type": "execute_result"
    }
   ],
   "source": [
    "#lowest sales of the year makes sense\n",
    "df[df['Sales'] == 7]"
   ]
  },
  {
   "cell_type": "markdown",
   "metadata": {},
   "source": [
    "_______________________"
   ]
  },
  {
   "cell_type": "markdown",
   "metadata": {},
   "source": [
    "#### 1b. Use the IQR Range Rule and the upper and lower bounds to identify the upper outliers of each column of lemonade.csv, using the multiplier of 1.5. \n",
    "\n",
    "<br>\n",
    "\n",
    "- Do these upper outliers make sense?\n",
    "    - temperature cannot be 200+ degrees\n",
    "    \n",
    "<br>\n",
    "    \n",
    "- Which outliers should be kept?\n",
    "    - Sales upper outlier- $500 in sales could be interesting\n",
    "    - Flyers upper outlier- passing out 80 flyers?"
   ]
  },
  {
   "cell_type": "code",
   "execution_count": null,
   "metadata": {},
   "outputs": [],
   "source": [
    "## see above 1a for visuals and upper outlier numbers"
   ]
  },
  {
   "cell_type": "markdown",
   "metadata": {},
   "source": [
    "_____________________________"
   ]
  },
  {
   "cell_type": "markdown",
   "metadata": {},
   "source": [
    "#### 1c. Using the multiplier of 3, IQR Range Rule, and the lower and upper bounds, identify the outliers below the lower bound in each colum of lemonade.csv. \n",
    "<br>\n",
    "\n",
    "- Do these lower outliers make sense?\n",
    "    - Answer: no\n",
    "        - cannot pass out -23 flyers\n",
    "        - cannot make -$10\n",
    "        - cannot rain -13 units\n",
    "\n",
    "<br>\n",
    "\n",
    "- Which outliers should be kept?\n",
    "    - Answer:\n",
    "        - Temperature\n",
    "        - Price"
   ]
  },
  {
   "cell_type": "code",
   "execution_count": 21,
   "metadata": {},
   "outputs": [
    {
     "name": "stdout",
     "output_type": "stream",
     "text": [
      "Using Temperature:\n",
      "the lower bound is: -16.3\n",
      "the upper bound is: 137.7\n"
     ]
    },
    {
     "data": {
      "image/png": "[encoded data removed]",
      "text/plain": [
       "<Figure size 1152x288 with 2 Axes>"
      ]
     },
     "metadata": {
      "needs_background": "light"
     },
     "output_type": "display_data"
    }
   ],
   "source": [
    "get_lower_and_upper_bounds(df, 'Temperature', 3.0)"
   ]
  },
  {
   "cell_type": "code",
   "execution_count": 22,
   "metadata": {},
   "outputs": [
    {
     "name": "stdout",
     "output_type": "stream",
     "text": [
      "Using Rainfall:\n",
      "the lower bound is: -0.13\n",
      "the upper bound is: 1.69\n"
     ]
    },
    {
     "data": {
      "image/png": "[encoded data removed]",
      "text/plain": [
       "<Figure size 1152x288 with 2 Axes>"
      ]
     },
     "metadata": {
      "needs_background": "light"
     },
     "output_type": "display_data"
    }
   ],
   "source": [
    "get_lower_and_upper_bounds(df, 'Rainfall', 3.0)"
   ]
  },
  {
   "cell_type": "code",
   "execution_count": 23,
   "metadata": {},
   "outputs": [
    {
     "name": "stdout",
     "output_type": "stream",
     "text": [
      "Using Flyers:\n",
      "the lower bound is: -23.0\n",
      "the upper bound is: 103.0\n"
     ]
    },
    {
     "data": {
      "image/png": "[encoded data removed]",
      "text/plain": [
       "<Figure size 1152x288 with 2 Axes>"
      ]
     },
     "metadata": {
      "needs_background": "light"
     },
     "output_type": "display_data"
    }
   ],
   "source": [
    "get_lower_and_upper_bounds(df, 'Flyers', 3.0)"
   ]
  },
  {
   "cell_type": "code",
   "execution_count": 24,
   "metadata": {},
   "outputs": [
    {
     "data": {
      "text/plain": [
       "-38"
      ]
     },
     "execution_count": 24,
     "metadata": {},
     "output_type": "execute_result"
    }
   ],
   "source": [
    "df.Flyers.min()"
   ]
  },
  {
   "cell_type": "code",
   "execution_count": 25,
   "metadata": {},
   "outputs": [
    {
     "name": "stdout",
     "output_type": "stream",
     "text": [
      "Using Price:\n",
      "the lower bound is: 0.5\n",
      "the upper bound is: 0.5\n"
     ]
    },
    {
     "name": "stderr",
     "output_type": "stream",
     "text": [
      "/opt/homebrew/anaconda3/lib/python3.8/site-packages/seaborn/distributions.py:305: UserWarning: Dataset has 0 variance; skipping density estimate.\n",
      "  warnings.warn(msg, UserWarning)\n"
     ]
    },
    {
     "data": {
      "image/png": "[encoded data removed]",
      "text/plain": [
       "<Figure size 1152x288 with 2 Axes>"
      ]
     },
     "metadata": {
      "needs_background": "light"
     },
     "output_type": "display_data"
    }
   ],
   "source": [
    "get_lower_and_upper_bounds(df, 'Price', 3.0)"
   ]
  },
  {
   "cell_type": "code",
   "execution_count": 26,
   "metadata": {},
   "outputs": [
    {
     "name": "stdout",
     "output_type": "stream",
     "text": [
      "Using Sales:\n",
      "the lower bound is: -10.0\n",
      "the upper bound is: 60.0\n"
     ]
    },
    {
     "data": {
      "image/png": "[encoded data removed]",
      "text/plain": [
       "<Figure size 1152x288 with 2 Axes>"
      ]
     },
     "metadata": {
      "needs_background": "light"
     },
     "output_type": "display_data"
    }
   ],
   "source": [
    "get_lower_and_upper_bounds(df, 'Sales', 3.0)"
   ]
  },
  {
   "cell_type": "markdown",
   "metadata": {},
   "source": [
    "___________________________"
   ]
  },
  {
   "cell_type": "markdown",
   "metadata": {},
   "source": [
    "#### 1d. Using the multiplier of 3, IQR Range Rule, and the lower and upper bounds, identify the outliers above the upper_bound in each colum of lemonade.csv. \n",
    "- Do these upper outliers make sense? \n",
    "    - Answer: no\n",
    "        - temperature cannot be that high\n",
    "    \n",
    "- Which outliers should be kept?\n",
    "    - Answer:\n",
    "        - Flyers\n",
    "        - Sales\n",
    "        - Rainfall"
   ]
  },
  {
   "cell_type": "code",
   "execution_count": null,
   "metadata": {},
   "outputs": [],
   "source": [
    "## see 1c for visuals and numeric infomation regarding upper bounds"
   ]
  },
  {
   "cell_type": "code",
   "execution_count": 27,
   "metadata": {},
   "outputs": [
    {
     "data": {
      "text/html": [
       "<div>\n",
       "<style scoped>\n",
       "    .dataframe tbody tr th:only-of-type {\n",
       "        vertical-align: middle;\n",
       "    }\n",
       "\n",
       "    .dataframe tbody tr th {\n",
       "        vertical-align: top;\n",
       "    }\n",
       "\n",
       "    .dataframe thead th {\n",
       "        text-align: right;\n",
       "    }\n",
       "</style>\n",
       "<table border=\"1\" class=\"dataframe\">\n",
       "  <thead>\n",
       "    <tr style=\"text-align: right;\">\n",
       "      <th></th>\n",
       "      <th>Temperature</th>\n",
       "      <th>Rainfall</th>\n",
       "      <th>Flyers</th>\n",
       "      <th>Price</th>\n",
       "      <th>Sales</th>\n",
       "      <th>Year</th>\n",
       "    </tr>\n",
       "  </thead>\n",
       "  <tbody>\n",
       "    <tr>\n",
       "      <th>count</th>\n",
       "      <td>365.000000</td>\n",
       "      <td>365.000000</td>\n",
       "      <td>365.000000</td>\n",
       "      <td>365.0</td>\n",
       "      <td>365.000000</td>\n",
       "      <td>365.0</td>\n",
       "    </tr>\n",
       "    <tr>\n",
       "      <th>mean</th>\n",
       "      <td>61.224658</td>\n",
       "      <td>0.825973</td>\n",
       "      <td>40.104110</td>\n",
       "      <td>0.5</td>\n",
       "      <td>27.865753</td>\n",
       "      <td>2017.0</td>\n",
       "    </tr>\n",
       "    <tr>\n",
       "      <th>std</th>\n",
       "      <td>18.085892</td>\n",
       "      <td>0.273890</td>\n",
       "      <td>13.786445</td>\n",
       "      <td>0.0</td>\n",
       "      <td>30.948132</td>\n",
       "      <td>0.0</td>\n",
       "    </tr>\n",
       "    <tr>\n",
       "      <th>min</th>\n",
       "      <td>15.100000</td>\n",
       "      <td>0.400000</td>\n",
       "      <td>-38.000000</td>\n",
       "      <td>0.5</td>\n",
       "      <td>7.000000</td>\n",
       "      <td>2017.0</td>\n",
       "    </tr>\n",
       "    <tr>\n",
       "      <th>25%</th>\n",
       "      <td>49.700000</td>\n",
       "      <td>0.650000</td>\n",
       "      <td>31.000000</td>\n",
       "      <td>0.5</td>\n",
       "      <td>20.000000</td>\n",
       "      <td>2017.0</td>\n",
       "    </tr>\n",
       "    <tr>\n",
       "      <th>50%</th>\n",
       "      <td>61.100000</td>\n",
       "      <td>0.740000</td>\n",
       "      <td>39.000000</td>\n",
       "      <td>0.5</td>\n",
       "      <td>25.000000</td>\n",
       "      <td>2017.0</td>\n",
       "    </tr>\n",
       "    <tr>\n",
       "      <th>75%</th>\n",
       "      <td>71.700000</td>\n",
       "      <td>0.910000</td>\n",
       "      <td>49.000000</td>\n",
       "      <td>0.5</td>\n",
       "      <td>30.000000</td>\n",
       "      <td>2017.0</td>\n",
       "    </tr>\n",
       "    <tr>\n",
       "      <th>max</th>\n",
       "      <td>212.000000</td>\n",
       "      <td>2.500000</td>\n",
       "      <td>80.000000</td>\n",
       "      <td>0.5</td>\n",
       "      <td>534.000000</td>\n",
       "      <td>2017.0</td>\n",
       "    </tr>\n",
       "  </tbody>\n",
       "</table>\n",
       "</div>"
      ],
      "text/plain": [
       "       Temperature    Rainfall      Flyers  Price       Sales    Year\n",
       "count   365.000000  365.000000  365.000000  365.0  365.000000   365.0\n",
       "mean     61.224658    0.825973   40.104110    0.5   27.865753  2017.0\n",
       "std      18.085892    0.273890   13.786445    0.0   30.948132     0.0\n",
       "min      15.100000    0.400000  -38.000000    0.5    7.000000  2017.0\n",
       "25%      49.700000    0.650000   31.000000    0.5   20.000000  2017.0\n",
       "50%      61.100000    0.740000   39.000000    0.5   25.000000  2017.0\n",
       "75%      71.700000    0.910000   49.000000    0.5   30.000000  2017.0\n",
       "max     212.000000    2.500000   80.000000    0.5  534.000000  2017.0"
      ]
     },
     "execution_count": 27,
     "metadata": {},
     "output_type": "execute_result"
    }
   ],
   "source": [
    "df.describe()"
   ]
  },
  {
   "cell_type": "markdown",
   "metadata": {},
   "source": [
    "### Takeaways:\n",
    "- **Temperature** \n",
    "    - upper outlier of 212 degrees isnt possible (drop)\n",
    "        - it is likely a clerical error/noise\n",
    "        - in February is was probably 21 degrees (typo)\n",
    "    - lower outlier of 7 degrees is possible (keep)\n",
    "    \n",
    "    <br>\n",
    "    \n",
    "- **Rainfall**\n",
    "    - both lower of 0.4 and upper of 2.5 are possible (keep)\n",
    "    \n",
    "    <br>\n",
    "    \n",
    "- **Flyers** \n",
    "    - lower outlier of -38 is not possible/noise (drop) \n",
    "    - upper outlier of 80 is interesting (keep)\n",
    "    \n",
    "    <br>\n",
    "    \n",
    "- **Price**\n",
    "    - price stayed consistent at $0.50 \n",
    "    - no outliers noted\n",
    "    \n",
    "    <br>\n",
    "    \n",
    "- **Sales** \n",
    "    - upper bound outlier was 4th of July weekend, so it is possible (keep)\n",
    "    - lower outlier of 7 makes sense (keep)\n",
    "        - was 15 degrees and rained\n",
    "    "
   ]
  },
  {
   "cell_type": "markdown",
   "metadata": {},
   "source": [
    "<hr style=\"border:2px solid black\"> </hr>"
   ]
  },
  {
   "cell_type": "markdown",
   "metadata": {},
   "source": [
    "### 2. Identify if any columns in lemonade.csv are normally distributed. For normally distributed columns:"
   ]
  },
  {
   "cell_type": "code",
   "execution_count": 28,
   "metadata": {},
   "outputs": [
    {
     "data": {
      "image/png": "[encoded data removed]",
      "text/plain": [
       "<Figure size 432x288 with 1 Axes>"
      ]
     },
     "metadata": {
      "needs_background": "light"
     },
     "output_type": "display_data"
    },
    {
     "data": {
      "image/png": "[encoded data removed]",
      "text/plain": [
       "<Figure size 432x288 with 1 Axes>"
      ]
     },
     "metadata": {
      "needs_background": "light"
     },
     "output_type": "display_data"
    },
    {
     "data": {
      "image/png": "[encoded data removed]",
      "text/plain": [
       "<Figure size 432x288 with 1 Axes>"
      ]
     },
     "metadata": {
      "needs_background": "light"
     },
     "output_type": "display_data"
    },
    {
     "data": {
      "image/png": "[encoded data removed]",
      "text/plain": [
       "<Figure size 432x288 with 1 Axes>"
      ]
     },
     "metadata": {
      "needs_background": "light"
     },
     "output_type": "display_data"
    },
    {
     "data": {
      "image/png": "[encoded data removed]",
      "text/plain": [
       "<Figure size 432x288 with 1 Axes>"
      ]
     },
     "metadata": {
      "needs_background": "light"
     },
     "output_type": "display_data"
    },
    {
     "data": {
      "image/png": "[encoded data removed]",
      "text/plain": [
       "<Figure size 432x288 with 1 Axes>"
      ]
     },
     "metadata": {
      "needs_background": "light"
     },
     "output_type": "display_data"
    }
   ],
   "source": [
    "for col in df.columns:\n",
    "    #determine if is numeric dtype\n",
    "    if np.issubdtype(df[col].dtype, np.number):\n",
    "        #histogram if it is numeric\n",
    "        df[col].hist()\n",
    "        plt.title(col)\n",
    "        plt.show()"
   ]
  },
  {
   "cell_type": "markdown",
   "metadata": {},
   "source": [
    "#### 2a. Use a 2 sigma decision rule to isolate the outliers."
   ]
  },
  {
   "cell_type": "code",
   "execution_count": 29,
   "metadata": {},
   "outputs": [],
   "source": [
    "#create column that shows zscore for flyers\n",
    "df['zscore_flyer'] = (df.Flyers - df.Flyers.mean()) / df.Flyers.std()"
   ]
  },
  {
   "cell_type": "code",
   "execution_count": 30,
   "metadata": {},
   "outputs": [
    {
     "data": {
      "text/html": [
       "<div>\n",
       "<style scoped>\n",
       "    .dataframe tbody tr th:only-of-type {\n",
       "        vertical-align: middle;\n",
       "    }\n",
       "\n",
       "    .dataframe tbody tr th {\n",
       "        vertical-align: top;\n",
       "    }\n",
       "\n",
       "    .dataframe thead th {\n",
       "        text-align: right;\n",
       "    }\n",
       "</style>\n",
       "<table border=\"1\" class=\"dataframe\">\n",
       "  <thead>\n",
       "    <tr style=\"text-align: right;\">\n",
       "      <th></th>\n",
       "      <th>Day</th>\n",
       "      <th>Temperature</th>\n",
       "      <th>Rainfall</th>\n",
       "      <th>Flyers</th>\n",
       "      <th>Price</th>\n",
       "      <th>Sales</th>\n",
       "      <th>Month</th>\n",
       "      <th>Year</th>\n",
       "      <th>zscore_flyer</th>\n",
       "    </tr>\n",
       "    <tr>\n",
       "      <th>Date</th>\n",
       "      <th></th>\n",
       "      <th></th>\n",
       "      <th></th>\n",
       "      <th></th>\n",
       "      <th></th>\n",
       "      <th></th>\n",
       "      <th></th>\n",
       "      <th></th>\n",
       "      <th></th>\n",
       "    </tr>\n",
       "  </thead>\n",
       "  <tbody>\n",
       "    <tr>\n",
       "      <th>2017-01-01</th>\n",
       "      <td>Sunday</td>\n",
       "      <td>27.0</td>\n",
       "      <td>2.00</td>\n",
       "      <td>15</td>\n",
       "      <td>0.5</td>\n",
       "      <td>10</td>\n",
       "      <td>January</td>\n",
       "      <td>2017</td>\n",
       "      <td>-1.820927</td>\n",
       "    </tr>\n",
       "    <tr>\n",
       "      <th>2017-01-02</th>\n",
       "      <td>Monday</td>\n",
       "      <td>28.9</td>\n",
       "      <td>1.33</td>\n",
       "      <td>15</td>\n",
       "      <td>0.5</td>\n",
       "      <td>13</td>\n",
       "      <td>January</td>\n",
       "      <td>2017</td>\n",
       "      <td>-1.820927</td>\n",
       "    </tr>\n",
       "    <tr>\n",
       "      <th>2017-01-03</th>\n",
       "      <td>Tuesday</td>\n",
       "      <td>34.5</td>\n",
       "      <td>1.33</td>\n",
       "      <td>27</td>\n",
       "      <td>0.5</td>\n",
       "      <td>15</td>\n",
       "      <td>January</td>\n",
       "      <td>2017</td>\n",
       "      <td>-0.950507</td>\n",
       "    </tr>\n",
       "    <tr>\n",
       "      <th>2017-01-04</th>\n",
       "      <td>Wednesday</td>\n",
       "      <td>44.1</td>\n",
       "      <td>1.05</td>\n",
       "      <td>28</td>\n",
       "      <td>0.5</td>\n",
       "      <td>17</td>\n",
       "      <td>January</td>\n",
       "      <td>2017</td>\n",
       "      <td>-0.877972</td>\n",
       "    </tr>\n",
       "    <tr>\n",
       "      <th>2017-01-05</th>\n",
       "      <td>Thursday</td>\n",
       "      <td>42.4</td>\n",
       "      <td>1.00</td>\n",
       "      <td>33</td>\n",
       "      <td>0.5</td>\n",
       "      <td>18</td>\n",
       "      <td>January</td>\n",
       "      <td>2017</td>\n",
       "      <td>-0.515297</td>\n",
       "    </tr>\n",
       "  </tbody>\n",
       "</table>\n",
       "</div>"
      ],
      "text/plain": [
       "                  Day  Temperature  Rainfall  Flyers  Price  Sales    Month  \\\n",
       "Date                                                                          \n",
       "2017-01-01     Sunday         27.0      2.00      15    0.5     10  January   \n",
       "2017-01-02     Monday         28.9      1.33      15    0.5     13  January   \n",
       "2017-01-03    Tuesday         34.5      1.33      27    0.5     15  January   \n",
       "2017-01-04  Wednesday         44.1      1.05      28    0.5     17  January   \n",
       "2017-01-05   Thursday         42.4      1.00      33    0.5     18  January   \n",
       "\n",
       "            Year  zscore_flyer  \n",
       "Date                            \n",
       "2017-01-01  2017     -1.820927  \n",
       "2017-01-02  2017     -1.820927  \n",
       "2017-01-03  2017     -0.950507  \n",
       "2017-01-04  2017     -0.877972  \n",
       "2017-01-05  2017     -0.515297  "
      ]
     },
     "execution_count": 30,
     "metadata": {},
     "output_type": "execute_result"
    }
   ],
   "source": [
    "df.head()"
   ]
  },
  {
   "cell_type": "code",
   "execution_count": 31,
   "metadata": {},
   "outputs": [
    {
     "data": {
      "text/html": [
       "<div>\n",
       "<style scoped>\n",
       "    .dataframe tbody tr th:only-of-type {\n",
       "        vertical-align: middle;\n",
       "    }\n",
       "\n",
       "    .dataframe tbody tr th {\n",
       "        vertical-align: top;\n",
       "    }\n",
       "\n",
       "    .dataframe thead th {\n",
       "        text-align: right;\n",
       "    }\n",
       "</style>\n",
       "<table border=\"1\" class=\"dataframe\">\n",
       "  <thead>\n",
       "    <tr style=\"text-align: right;\">\n",
       "      <th></th>\n",
       "      <th>Day</th>\n",
       "      <th>Temperature</th>\n",
       "      <th>Rainfall</th>\n",
       "      <th>Flyers</th>\n",
       "      <th>Price</th>\n",
       "      <th>Sales</th>\n",
       "      <th>Month</th>\n",
       "      <th>Year</th>\n",
       "      <th>zscore_flyer</th>\n",
       "    </tr>\n",
       "    <tr>\n",
       "      <th>Date</th>\n",
       "      <th></th>\n",
       "      <th></th>\n",
       "      <th></th>\n",
       "      <th></th>\n",
       "      <th></th>\n",
       "      <th></th>\n",
       "      <th></th>\n",
       "      <th></th>\n",
       "      <th></th>\n",
       "    </tr>\n",
       "  </thead>\n",
       "  <tbody>\n",
       "    <tr>\n",
       "      <th>2017-06-16</th>\n",
       "      <td>Friday</td>\n",
       "      <td>99.3</td>\n",
       "      <td>0.47</td>\n",
       "      <td>77</td>\n",
       "      <td>0.5</td>\n",
       "      <td>41</td>\n",
       "      <td>June</td>\n",
       "      <td>2017</td>\n",
       "      <td>2.676244</td>\n",
       "    </tr>\n",
       "    <tr>\n",
       "      <th>2017-06-20</th>\n",
       "      <td>Tuesday</td>\n",
       "      <td>85.1</td>\n",
       "      <td>0.54</td>\n",
       "      <td>70</td>\n",
       "      <td>0.5</td>\n",
       "      <td>37</td>\n",
       "      <td>June</td>\n",
       "      <td>2017</td>\n",
       "      <td>2.168499</td>\n",
       "    </tr>\n",
       "    <tr>\n",
       "      <th>2017-06-21</th>\n",
       "      <td>Wednesday</td>\n",
       "      <td>94.3</td>\n",
       "      <td>0.47</td>\n",
       "      <td>76</td>\n",
       "      <td>0.5</td>\n",
       "      <td>41</td>\n",
       "      <td>June</td>\n",
       "      <td>2017</td>\n",
       "      <td>2.603709</td>\n",
       "    </tr>\n",
       "    <tr>\n",
       "      <th>2017-07-02</th>\n",
       "      <td>Sunday</td>\n",
       "      <td>93.4</td>\n",
       "      <td>0.51</td>\n",
       "      <td>68</td>\n",
       "      <td>0.5</td>\n",
       "      <td>158</td>\n",
       "      <td>July</td>\n",
       "      <td>2017</td>\n",
       "      <td>2.023429</td>\n",
       "    </tr>\n",
       "    <tr>\n",
       "      <th>2017-07-03</th>\n",
       "      <td>Monday</td>\n",
       "      <td>81.5</td>\n",
       "      <td>0.54</td>\n",
       "      <td>68</td>\n",
       "      <td>0.5</td>\n",
       "      <td>235</td>\n",
       "      <td>July</td>\n",
       "      <td>2017</td>\n",
       "      <td>2.023429</td>\n",
       "    </tr>\n",
       "    <tr>\n",
       "      <th>2017-07-14</th>\n",
       "      <td>Friday</td>\n",
       "      <td>92.0</td>\n",
       "      <td>0.50</td>\n",
       "      <td>80</td>\n",
       "      <td>0.5</td>\n",
       "      <td>40</td>\n",
       "      <td>July</td>\n",
       "      <td>2017</td>\n",
       "      <td>2.893849</td>\n",
       "    </tr>\n",
       "    <tr>\n",
       "      <th>2017-07-18</th>\n",
       "      <td>Tuesday</td>\n",
       "      <td>99.3</td>\n",
       "      <td>0.47</td>\n",
       "      <td>76</td>\n",
       "      <td>0.5</td>\n",
       "      <td>41</td>\n",
       "      <td>July</td>\n",
       "      <td>2017</td>\n",
       "      <td>2.603709</td>\n",
       "    </tr>\n",
       "    <tr>\n",
       "      <th>2017-07-23</th>\n",
       "      <td>Sunday</td>\n",
       "      <td>89.1</td>\n",
       "      <td>0.51</td>\n",
       "      <td>72</td>\n",
       "      <td>0.5</td>\n",
       "      <td>37</td>\n",
       "      <td>July</td>\n",
       "      <td>2017</td>\n",
       "      <td>2.313569</td>\n",
       "    </tr>\n",
       "    <tr>\n",
       "      <th>2017-07-24</th>\n",
       "      <td>Monday</td>\n",
       "      <td>83.5</td>\n",
       "      <td>0.57</td>\n",
       "      <td>69</td>\n",
       "      <td>0.5</td>\n",
       "      <td>35</td>\n",
       "      <td>July</td>\n",
       "      <td>2017</td>\n",
       "      <td>2.095964</td>\n",
       "    </tr>\n",
       "    <tr>\n",
       "      <th>2017-07-27</th>\n",
       "      <td>Thursday</td>\n",
       "      <td>97.9</td>\n",
       "      <td>0.47</td>\n",
       "      <td>74</td>\n",
       "      <td>0.5</td>\n",
       "      <td>43</td>\n",
       "      <td>July</td>\n",
       "      <td>2017</td>\n",
       "      <td>2.458639</td>\n",
       "    </tr>\n",
       "    <tr>\n",
       "      <th>2017-11-21</th>\n",
       "      <td>Tuesday</td>\n",
       "      <td>47.0</td>\n",
       "      <td>0.95</td>\n",
       "      <td>-38</td>\n",
       "      <td>0.5</td>\n",
       "      <td>20</td>\n",
       "      <td>November</td>\n",
       "      <td>2017</td>\n",
       "      <td>-5.665283</td>\n",
       "    </tr>\n",
       "    <tr>\n",
       "      <th>2017-12-05</th>\n",
       "      <td>Tuesday</td>\n",
       "      <td>22.0</td>\n",
       "      <td>1.82</td>\n",
       "      <td>11</td>\n",
       "      <td>0.5</td>\n",
       "      <td>10</td>\n",
       "      <td>December</td>\n",
       "      <td>2017</td>\n",
       "      <td>-2.111067</td>\n",
       "    </tr>\n",
       "    <tr>\n",
       "      <th>2017-12-31</th>\n",
       "      <td>Sunday</td>\n",
       "      <td>15.1</td>\n",
       "      <td>2.50</td>\n",
       "      <td>9</td>\n",
       "      <td>0.5</td>\n",
       "      <td>7</td>\n",
       "      <td>December</td>\n",
       "      <td>2017</td>\n",
       "      <td>-2.256137</td>\n",
       "    </tr>\n",
       "  </tbody>\n",
       "</table>\n",
       "</div>"
      ],
      "text/plain": [
       "                  Day  Temperature  Rainfall  Flyers  Price  Sales     Month  \\\n",
       "Date                                                                           \n",
       "2017-06-16     Friday         99.3      0.47      77    0.5     41      June   \n",
       "2017-06-20    Tuesday         85.1      0.54      70    0.5     37      June   \n",
       "2017-06-21  Wednesday         94.3      0.47      76    0.5     41      June   \n",
       "2017-07-02     Sunday         93.4      0.51      68    0.5    158      July   \n",
       "2017-07-03     Monday         81.5      0.54      68    0.5    235      July   \n",
       "2017-07-14     Friday         92.0      0.50      80    0.5     40      July   \n",
       "2017-07-18    Tuesday         99.3      0.47      76    0.5     41      July   \n",
       "2017-07-23     Sunday         89.1      0.51      72    0.5     37      July   \n",
       "2017-07-24     Monday         83.5      0.57      69    0.5     35      July   \n",
       "2017-07-27   Thursday         97.9      0.47      74    0.5     43      July   \n",
       "2017-11-21    Tuesday         47.0      0.95     -38    0.5     20  November   \n",
       "2017-12-05    Tuesday         22.0      1.82      11    0.5     10  December   \n",
       "2017-12-31     Sunday         15.1      2.50       9    0.5      7  December   \n",
       "\n",
       "            Year  zscore_flyer  \n",
       "Date                            \n",
       "2017-06-16  2017      2.676244  \n",
       "2017-06-20  2017      2.168499  \n",
       "2017-06-21  2017      2.603709  \n",
       "2017-07-02  2017      2.023429  \n",
       "2017-07-03  2017      2.023429  \n",
       "2017-07-14  2017      2.893849  \n",
       "2017-07-18  2017      2.603709  \n",
       "2017-07-23  2017      2.313569  \n",
       "2017-07-24  2017      2.095964  \n",
       "2017-07-27  2017      2.458639  \n",
       "2017-11-21  2017     -5.665283  \n",
       "2017-12-05  2017     -2.111067  \n",
       "2017-12-31  2017     -2.256137  "
      ]
     },
     "execution_count": 31,
     "metadata": {},
     "output_type": "execute_result"
    }
   ],
   "source": [
    "df[df.zscore_flyer.abs() > 2]"
   ]
  },
  {
   "cell_type": "markdown",
   "metadata": {},
   "source": [
    "__________________________________"
   ]
  },
  {
   "cell_type": "markdown",
   "metadata": {},
   "source": [
    "#### 2b. Do these make sense?"
   ]
  },
  {
   "cell_type": "code",
   "execution_count": null,
   "metadata": {},
   "outputs": [],
   "source": []
  },
  {
   "cell_type": "code",
   "execution_count": null,
   "metadata": {},
   "outputs": [],
   "source": []
  },
  {
   "cell_type": "markdown",
   "metadata": {},
   "source": [
    "________________________________________________"
   ]
  },
  {
   "cell_type": "markdown",
   "metadata": {},
   "source": [
    "#### 2c. Should certain outliers be kept or removed?"
   ]
  },
  {
   "cell_type": "code",
   "execution_count": null,
   "metadata": {},
   "outputs": [],
   "source": []
  },
  {
   "cell_type": "code",
   "execution_count": null,
   "metadata": {},
   "outputs": [],
   "source": []
  },
  {
   "cell_type": "markdown",
   "metadata": {},
   "source": [
    "________________________________________"
   ]
  },
  {
   "cell_type": "markdown",
   "metadata": {},
   "source": [
    "### 3. Now use a 3 sigma decision rule to isolate the outliers in the normally distributed columns from lemonade.csv"
   ]
  },
  {
   "cell_type": "code",
   "execution_count": null,
   "metadata": {},
   "outputs": [],
   "source": [
    "df[df.zscore_flyer.abs() > 2]"
   ]
  },
  {
   "cell_type": "code",
   "execution_count": null,
   "metadata": {},
   "outputs": [],
   "source": []
  }
 ],
 "metadata": {
  "kernelspec": {
   "display_name": "Python 3",
   "language": "python",
   "name": "python3"
  },
  "language_info": {
   "codemirror_mode": {
    "name": "ipython",
    "version": 3
   },
   "file_extension": ".py",
   "mimetype": "text/x-python",
   "name": "python",
   "nbconvert_exporter": "python",
   "pygments_lexer": "ipython3",
   "version": "3.8.5"
  }
 },
 "nbformat": 4,
 "nbformat_minor": 4
}
