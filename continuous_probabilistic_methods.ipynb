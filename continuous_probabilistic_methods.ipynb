{
 "cells": [
  {
   "cell_type": "markdown",
   "metadata": {},
   "source": [
    "# Exercises"
   ]
  },
  {
   "cell_type": "code",
   "execution_count": 1,
   "metadata": {},
   "outputs": [],
   "source": [
    "import pandas as pd\n",
    "import numpy as np\n",
    "import matplotlib.pyplot as plt\n",
    "import seaborn as sns"
   ]
  },
  {
   "cell_type": "markdown",
   "metadata": {},
   "source": [
    "using: ['Lemonade'](https://gist.githubusercontent.com/ryanorsinger/19bc7eccd6279661bd13307026628ace/raw/e4b5d6787015a4782f96cad6d1d62a8bdbac54c7/lemonade.csv)"
   ]
  },
  {
   "cell_type": "markdown",
   "metadata": {},
   "source": [
    "0. Define a function named get_lower_and_upper_bounds that has two arguments. The first argument is a pandas Series. The second argument is the multiplier, which should have a default argument of 1.5."
   ]
  },
  {
   "cell_type": "markdown",
   "metadata": {},
   "source": [
    "1. Using lemonade.csv dataset and focusing on continuous variables:\n",
    "\n",
    "- a. Use the IQR Range Rule and the upper and lower bounds to identify the lower outliers of each column of lemonade.csv, using the multiplier of 1.5. Do these lower outliers make sense?Which outliers should be kept?\n",
    "- b. Use the IQR Range Rule and the upper and lower bounds to identify the upper outliers of each column of lemonade.csv, using the multiplier of 1.5. Do these lower outliers make sense?Which outliers should be kept?\n",
    "- c. Using the multiplier of 3, IQR Range Rule, and the lower and upper bounds, identify the outliers below the lower bound in each colum of lemonade.csv. Do these lower outliers make sense?Which outliers should be kept?\n",
    "- d. Using the multiplier of 3, IQR Range Rule, and the lower and upper bounds, identify the outliers above the upper_bound in each colum of lemonade.csv. Do these upper outliers make sense? Which outliers should be kept?"
   ]
  },
  {
   "cell_type": "markdown",
   "metadata": {},
   "source": [
    "2. Identify if any columns in lemonade.csv are normally distributed. For normally distributed columns:\n",
    "\n",
    "- a. Use a 2 sigma decision rule to isolate the outliers.\n",
    "- b. Do these make sense?\n",
    "- c. Should certain outliers be kept or removed?"
   ]
  },
  {
   "cell_type": "markdown",
   "metadata": {},
   "source": [
    "3. Now use a 3 sigma decision rule to isolate the outliers in the normally distributed columns from lemonade.csv"
   ]
  },
  {
   "cell_type": "markdown",
   "metadata": {},
   "source": [
    "<hr style=\"border:2px solid black\"> </hr>"
   ]
  },
  {
   "cell_type": "code",
   "execution_count": 3,
   "metadata": {},
   "outputs": [],
   "source": [
    "#read in the clipboard from webpage\n",
    "#column seperator is the comma\n",
    "df = pd.read_clipboard(sep = ',')"
   ]
  },
  {
   "cell_type": "code",
   "execution_count": 4,
   "metadata": {},
   "outputs": [
    {
     "data": {
      "text/html": [
       "<div>\n",
       "<style scoped>\n",
       "    .dataframe tbody tr th:only-of-type {\n",
       "        vertical-align: middle;\n",
       "    }\n",
       "\n",
       "    .dataframe tbody tr th {\n",
       "        vertical-align: top;\n",
       "    }\n",
       "\n",
       "    .dataframe thead th {\n",
       "        text-align: right;\n",
       "    }\n",
       "</style>\n",
       "<table border=\"1\" class=\"dataframe\">\n",
       "  <thead>\n",
       "    <tr style=\"text-align: right;\">\n",
       "      <th></th>\n",
       "      <th>Date</th>\n",
       "      <th>Day</th>\n",
       "      <th>Temperature</th>\n",
       "      <th>Rainfall</th>\n",
       "      <th>Flyers</th>\n",
       "      <th>Price</th>\n",
       "      <th>Sales</th>\n",
       "    </tr>\n",
       "  </thead>\n",
       "  <tbody>\n",
       "    <tr>\n",
       "      <th>0</th>\n",
       "      <td>1/1/17</td>\n",
       "      <td>Sunday</td>\n",
       "      <td>27.0</td>\n",
       "      <td>2.00</td>\n",
       "      <td>15</td>\n",
       "      <td>0.5</td>\n",
       "      <td>10</td>\n",
       "    </tr>\n",
       "    <tr>\n",
       "      <th>1</th>\n",
       "      <td>1/2/17</td>\n",
       "      <td>Monday</td>\n",
       "      <td>28.9</td>\n",
       "      <td>1.33</td>\n",
       "      <td>15</td>\n",
       "      <td>0.5</td>\n",
       "      <td>13</td>\n",
       "    </tr>\n",
       "    <tr>\n",
       "      <th>2</th>\n",
       "      <td>1/3/17</td>\n",
       "      <td>Tuesday</td>\n",
       "      <td>34.5</td>\n",
       "      <td>1.33</td>\n",
       "      <td>27</td>\n",
       "      <td>0.5</td>\n",
       "      <td>15</td>\n",
       "    </tr>\n",
       "    <tr>\n",
       "      <th>3</th>\n",
       "      <td>1/4/17</td>\n",
       "      <td>Wednesday</td>\n",
       "      <td>44.1</td>\n",
       "      <td>1.05</td>\n",
       "      <td>28</td>\n",
       "      <td>0.5</td>\n",
       "      <td>17</td>\n",
       "    </tr>\n",
       "    <tr>\n",
       "      <th>4</th>\n",
       "      <td>1/5/17</td>\n",
       "      <td>Thursday</td>\n",
       "      <td>42.4</td>\n",
       "      <td>1.00</td>\n",
       "      <td>33</td>\n",
       "      <td>0.5</td>\n",
       "      <td>18</td>\n",
       "    </tr>\n",
       "  </tbody>\n",
       "</table>\n",
       "</div>"
      ],
      "text/plain": [
       "     Date        Day  Temperature  Rainfall  Flyers  Price  Sales\n",
       "0  1/1/17     Sunday         27.0      2.00      15    0.5     10\n",
       "1  1/2/17     Monday         28.9      1.33      15    0.5     13\n",
       "2  1/3/17    Tuesday         34.5      1.33      27    0.5     15\n",
       "3  1/4/17  Wednesday         44.1      1.05      28    0.5     17\n",
       "4  1/5/17   Thursday         42.4      1.00      33    0.5     18"
      ]
     },
     "execution_count": 4,
     "metadata": {},
     "output_type": "execute_result"
    }
   ],
   "source": [
    "df.head()"
   ]
  },
  {
   "cell_type": "code",
   "execution_count": 5,
   "metadata": {},
   "outputs": [
    {
     "name": "stdout",
     "output_type": "stream",
     "text": [
      "<class 'pandas.core.frame.DataFrame'>\n",
      "RangeIndex: 365 entries, 0 to 364\n",
      "Data columns (total 7 columns):\n",
      " #   Column       Non-Null Count  Dtype  \n",
      "---  ------       --------------  -----  \n",
      " 0   Date         365 non-null    object \n",
      " 1   Day          365 non-null    object \n",
      " 2   Temperature  365 non-null    float64\n",
      " 3   Rainfall     365 non-null    float64\n",
      " 4   Flyers       365 non-null    int64  \n",
      " 5   Price        365 non-null    float64\n",
      " 6   Sales        365 non-null    int64  \n",
      "dtypes: float64(3), int64(2), object(2)\n",
      "memory usage: 20.1+ KB\n"
     ]
    }
   ],
   "source": [
    "df.info()"
   ]
  },
  {
   "cell_type": "code",
   "execution_count": 6,
   "metadata": {},
   "outputs": [],
   "source": [
    "#change the dtype\n",
    "df.Date = pd.to_datetime(df.Date)"
   ]
  },
  {
   "cell_type": "code",
   "execution_count": 7,
   "metadata": {},
   "outputs": [],
   "source": [
    "#set Date as index\n",
    "df = df.set_index('Date')"
   ]
  },
  {
   "cell_type": "code",
   "execution_count": 8,
   "metadata": {},
   "outputs": [],
   "source": [
    "#create month and year columns to better understand data\n",
    "df['Month'] = df.index.month_name()\n",
    "df['Year'] = df.index.year"
   ]
  },
  {
   "cell_type": "code",
   "execution_count": 9,
   "metadata": {},
   "outputs": [
    {
     "data": {
      "text/html": [
       "<div>\n",
       "<style scoped>\n",
       "    .dataframe tbody tr th:only-of-type {\n",
       "        vertical-align: middle;\n",
       "    }\n",
       "\n",
       "    .dataframe tbody tr th {\n",
       "        vertical-align: top;\n",
       "    }\n",
       "\n",
       "    .dataframe thead th {\n",
       "        text-align: right;\n",
       "    }\n",
       "</style>\n",
       "<table border=\"1\" class=\"dataframe\">\n",
       "  <thead>\n",
       "    <tr style=\"text-align: right;\">\n",
       "      <th></th>\n",
       "      <th>Day</th>\n",
       "      <th>Temperature</th>\n",
       "      <th>Rainfall</th>\n",
       "      <th>Flyers</th>\n",
       "      <th>Price</th>\n",
       "      <th>Sales</th>\n",
       "      <th>Month</th>\n",
       "      <th>Year</th>\n",
       "    </tr>\n",
       "    <tr>\n",
       "      <th>Date</th>\n",
       "      <th></th>\n",
       "      <th></th>\n",
       "      <th></th>\n",
       "      <th></th>\n",
       "      <th></th>\n",
       "      <th></th>\n",
       "      <th></th>\n",
       "      <th></th>\n",
       "    </tr>\n",
       "  </thead>\n",
       "  <tbody>\n",
       "    <tr>\n",
       "      <th>2017-01-01</th>\n",
       "      <td>Sunday</td>\n",
       "      <td>27.0</td>\n",
       "      <td>2.00</td>\n",
       "      <td>15</td>\n",
       "      <td>0.5</td>\n",
       "      <td>10</td>\n",
       "      <td>January</td>\n",
       "      <td>2017</td>\n",
       "    </tr>\n",
       "    <tr>\n",
       "      <th>2017-01-02</th>\n",
       "      <td>Monday</td>\n",
       "      <td>28.9</td>\n",
       "      <td>1.33</td>\n",
       "      <td>15</td>\n",
       "      <td>0.5</td>\n",
       "      <td>13</td>\n",
       "      <td>January</td>\n",
       "      <td>2017</td>\n",
       "    </tr>\n",
       "    <tr>\n",
       "      <th>2017-01-03</th>\n",
       "      <td>Tuesday</td>\n",
       "      <td>34.5</td>\n",
       "      <td>1.33</td>\n",
       "      <td>27</td>\n",
       "      <td>0.5</td>\n",
       "      <td>15</td>\n",
       "      <td>January</td>\n",
       "      <td>2017</td>\n",
       "    </tr>\n",
       "    <tr>\n",
       "      <th>2017-01-04</th>\n",
       "      <td>Wednesday</td>\n",
       "      <td>44.1</td>\n",
       "      <td>1.05</td>\n",
       "      <td>28</td>\n",
       "      <td>0.5</td>\n",
       "      <td>17</td>\n",
       "      <td>January</td>\n",
       "      <td>2017</td>\n",
       "    </tr>\n",
       "    <tr>\n",
       "      <th>2017-01-05</th>\n",
       "      <td>Thursday</td>\n",
       "      <td>42.4</td>\n",
       "      <td>1.00</td>\n",
       "      <td>33</td>\n",
       "      <td>0.5</td>\n",
       "      <td>18</td>\n",
       "      <td>January</td>\n",
       "      <td>2017</td>\n",
       "    </tr>\n",
       "  </tbody>\n",
       "</table>\n",
       "</div>"
      ],
      "text/plain": [
       "                  Day  Temperature  Rainfall  Flyers  Price  Sales    Month  \\\n",
       "Date                                                                          \n",
       "2017-01-01     Sunday         27.0      2.00      15    0.5     10  January   \n",
       "2017-01-02     Monday         28.9      1.33      15    0.5     13  January   \n",
       "2017-01-03    Tuesday         34.5      1.33      27    0.5     15  January   \n",
       "2017-01-04  Wednesday         44.1      1.05      28    0.5     17  January   \n",
       "2017-01-05   Thursday         42.4      1.00      33    0.5     18  January   \n",
       "\n",
       "            Year  \n",
       "Date              \n",
       "2017-01-01  2017  \n",
       "2017-01-02  2017  \n",
       "2017-01-03  2017  \n",
       "2017-01-04  2017  \n",
       "2017-01-05  2017  "
      ]
     },
     "execution_count": 9,
     "metadata": {},
     "output_type": "execute_result"
    }
   ],
   "source": [
    "#take a look\n",
    "df.head()"
   ]
  },
  {
   "cell_type": "code",
   "execution_count": 9,
   "metadata": {},
   "outputs": [
    {
     "name": "stdout",
     "output_type": "stream",
     "text": [
      "<class 'pandas.core.frame.DataFrame'>\n",
      "DatetimeIndex: 365 entries, 2017-01-01 to 2017-12-31\n",
      "Data columns (total 8 columns):\n",
      " #   Column       Non-Null Count  Dtype  \n",
      "---  ------       --------------  -----  \n",
      " 0   Day          365 non-null    object \n",
      " 1   Temperature  365 non-null    float64\n",
      " 2   Rainfall     365 non-null    float64\n",
      " 3   Flyers       365 non-null    int64  \n",
      " 4   Price        365 non-null    float64\n",
      " 5   Sales        365 non-null    int64  \n",
      " 6   Month        365 non-null    object \n",
      " 7   Year         365 non-null    int64  \n",
      "dtypes: float64(3), int64(3), object(2)\n",
      "memory usage: 25.7+ KB\n"
     ]
    }
   ],
   "source": [
    "#look at dtypes\n",
    "df.info()"
   ]
  },
  {
   "cell_type": "code",
   "execution_count": 10,
   "metadata": {},
   "outputs": [
    {
     "data": {
      "text/html": [
       "<div>\n",
       "<style scoped>\n",
       "    .dataframe tbody tr th:only-of-type {\n",
       "        vertical-align: middle;\n",
       "    }\n",
       "\n",
       "    .dataframe tbody tr th {\n",
       "        vertical-align: top;\n",
       "    }\n",
       "\n",
       "    .dataframe thead th {\n",
       "        text-align: right;\n",
       "    }\n",
       "</style>\n",
       "<table border=\"1\" class=\"dataframe\">\n",
       "  <thead>\n",
       "    <tr style=\"text-align: right;\">\n",
       "      <th></th>\n",
       "      <th>Temperature</th>\n",
       "      <th>Rainfall</th>\n",
       "      <th>Flyers</th>\n",
       "      <th>Price</th>\n",
       "      <th>Sales</th>\n",
       "      <th>Year</th>\n",
       "    </tr>\n",
       "  </thead>\n",
       "  <tbody>\n",
       "    <tr>\n",
       "      <th>count</th>\n",
       "      <td>365.000000</td>\n",
       "      <td>365.000000</td>\n",
       "      <td>365.000000</td>\n",
       "      <td>365.0</td>\n",
       "      <td>365.000000</td>\n",
       "      <td>365.0</td>\n",
       "    </tr>\n",
       "    <tr>\n",
       "      <th>mean</th>\n",
       "      <td>61.224658</td>\n",
       "      <td>0.825973</td>\n",
       "      <td>40.104110</td>\n",
       "      <td>0.5</td>\n",
       "      <td>27.865753</td>\n",
       "      <td>2017.0</td>\n",
       "    </tr>\n",
       "    <tr>\n",
       "      <th>std</th>\n",
       "      <td>18.085892</td>\n",
       "      <td>0.273890</td>\n",
       "      <td>13.786445</td>\n",
       "      <td>0.0</td>\n",
       "      <td>30.948132</td>\n",
       "      <td>0.0</td>\n",
       "    </tr>\n",
       "    <tr>\n",
       "      <th>min</th>\n",
       "      <td>15.100000</td>\n",
       "      <td>0.400000</td>\n",
       "      <td>-38.000000</td>\n",
       "      <td>0.5</td>\n",
       "      <td>7.000000</td>\n",
       "      <td>2017.0</td>\n",
       "    </tr>\n",
       "    <tr>\n",
       "      <th>25%</th>\n",
       "      <td>49.700000</td>\n",
       "      <td>0.650000</td>\n",
       "      <td>31.000000</td>\n",
       "      <td>0.5</td>\n",
       "      <td>20.000000</td>\n",
       "      <td>2017.0</td>\n",
       "    </tr>\n",
       "    <tr>\n",
       "      <th>50%</th>\n",
       "      <td>61.100000</td>\n",
       "      <td>0.740000</td>\n",
       "      <td>39.000000</td>\n",
       "      <td>0.5</td>\n",
       "      <td>25.000000</td>\n",
       "      <td>2017.0</td>\n",
       "    </tr>\n",
       "    <tr>\n",
       "      <th>75%</th>\n",
       "      <td>71.700000</td>\n",
       "      <td>0.910000</td>\n",
       "      <td>49.000000</td>\n",
       "      <td>0.5</td>\n",
       "      <td>30.000000</td>\n",
       "      <td>2017.0</td>\n",
       "    </tr>\n",
       "    <tr>\n",
       "      <th>max</th>\n",
       "      <td>212.000000</td>\n",
       "      <td>2.500000</td>\n",
       "      <td>80.000000</td>\n",
       "      <td>0.5</td>\n",
       "      <td>534.000000</td>\n",
       "      <td>2017.0</td>\n",
       "    </tr>\n",
       "  </tbody>\n",
       "</table>\n",
       "</div>"
      ],
      "text/plain": [
       "       Temperature    Rainfall      Flyers  Price       Sales    Year\n",
       "count   365.000000  365.000000  365.000000  365.0  365.000000   365.0\n",
       "mean     61.224658    0.825973   40.104110    0.5   27.865753  2017.0\n",
       "std      18.085892    0.273890   13.786445    0.0   30.948132     0.0\n",
       "min      15.100000    0.400000  -38.000000    0.5    7.000000  2017.0\n",
       "25%      49.700000    0.650000   31.000000    0.5   20.000000  2017.0\n",
       "50%      61.100000    0.740000   39.000000    0.5   25.000000  2017.0\n",
       "75%      71.700000    0.910000   49.000000    0.5   30.000000  2017.0\n",
       "max     212.000000    2.500000   80.000000    0.5  534.000000  2017.0"
      ]
     },
     "execution_count": 10,
     "metadata": {},
     "output_type": "execute_result"
    }
   ],
   "source": [
    "#take a look at descriptive stats\n",
    "df.describe()\n",
    "\n",
    "#possible issues: flyers = -38, temp = 212"
   ]
  },
  {
   "cell_type": "code",
   "execution_count": 12,
   "metadata": {},
   "outputs": [
    {
     "data": {
      "text/plain": [
       "<seaborn.axisgrid.PairGrid at 0x7f8a500d59d0>"
      ]
     },
     "execution_count": 12,
     "metadata": {},
     "output_type": "execute_result"
    },
    {
     "data": {
      "image/png": "[encoded data removed]",
      "text/plain": [
       "<Figure size 1080x1080 with 42 Axes>"
      ]
     },
     "metadata": {
      "needs_background": "light"
     },
     "output_type": "display_data"
    }
   ],
   "source": [
    "#look at bivariate \n",
    "sns.pairplot(df)"
   ]
  },
  {
   "cell_type": "code",
   "execution_count": 13,
   "metadata": {},
   "outputs": [
    {
     "data": {
      "image/png": "[encoded data removed]",
      "text/plain": [
       "<Figure size 432x288 with 1 Axes>"
      ]
     },
     "metadata": {
      "needs_background": "light"
     },
     "output_type": "display_data"
    },
    {
     "data": {
      "image/png": "[encoded data removed]",
      "text/plain": [
       "<Figure size 432x288 with 1 Axes>"
      ]
     },
     "metadata": {
      "needs_background": "light"
     },
     "output_type": "display_data"
    },
    {
     "data": {
      "image/png": "[encoded data removed]",
      "text/plain": [
       "<Figure size 432x288 with 1 Axes>"
      ]
     },
     "metadata": {
      "needs_background": "light"
     },
     "output_type": "display_data"
    },
    {
     "data": {
      "image/png": "[encoded data removed]",
      "text/plain": [
       "<Figure size 432x288 with 1 Axes>"
      ]
     },
     "metadata": {
      "needs_background": "light"
     },
     "output_type": "display_data"
    },
    {
     "data": {
      "image/png": "[encoded data removed]",
      "text/plain": [
       "<Figure size 432x288 with 1 Axes>"
      ]
     },
     "metadata": {
      "needs_background": "light"
     },
     "output_type": "display_data"
    },
    {
     "data": {
      "image/png": "[encoded data removed]",
      "text/plain": [
       "<Figure size 432x288 with 1 Axes>"
      ]
     },
     "metadata": {
      "needs_background": "light"
     },
     "output_type": "display_data"
    }
   ],
   "source": [
    "#visualize distribution\n",
    "for col in df.columns:\n",
    "    #determine if is numeric dtype\n",
    "    if np.issubdtype(df[col].dtype, np.number):\n",
    "        #histogram if it is numeric\n",
    "        df[col].hist()\n",
    "        plt.title(col)\n",
    "        plt.show()"
   ]
  },
  {
   "cell_type": "markdown",
   "metadata": {},
   "source": [
    "### Takeaways:\n",
    "- as months get hotter, sales go up\n",
    "- as rainfall increases, sales go down\n",
    "- Max Temp of 212 isnt possible- possibly fill with previous day temp or weekly average\n",
    "- Flyers cannot be -38, possibly fill with days around it\n",
    "- as rainfall increases, flyers passed out, goes down\n",
    "- generally, the more flyers passed out, the higher the sales\n",
    "- Normal Distribution is:\n",
    "    - Flyers\n",
    "    - Rainfall\n",
    "    - Temperature\n"
   ]
  },
  {
   "cell_type": "markdown",
   "metadata": {},
   "source": [
    "____________________________________________"
   ]
  },
  {
   "cell_type": "markdown",
   "metadata": {},
   "source": [
    "### 0: create a function"
   ]
  },
  {
   "cell_type": "code",
   "execution_count": 11,
   "metadata": {},
   "outputs": [],
   "source": [
    "#function that prints lower and upper bounds\n",
    "def get_lower_and_upper_bounds(df, variable, multiplier):\n",
    "    '''\n",
    "    This function takes in df, desired variable, and multiplier\n",
    "    and outputs the calculated lower and upper bound to locate outliers in variables\n",
    "    additionally, a boxplot and histplot are created with that variables distribution\n",
    "    '''\n",
    "    #calculate q1 and q3\n",
    "    q1, q3 = np.percentile(df[variable], [25,75])\n",
    "    #calculate iqr\n",
    "    iqr = q3 - q1\n",
    "    #calculate lower_bounds\n",
    "    lower_bound = (round(q1 - (multiplier * iqr),2))\n",
    "    #calculate upper_bounds\n",
    "    upper_bound = q3 + (multiplier * iqr)\n",
    "    \n",
    "    #print upper and lower bounds\n",
    "    print(f'Using {variable}:')\n",
    "    print(f'the lower bound is: {lower_bound}')  \n",
    "    print(f'the upper bound is: {upper_bound}')\n",
    "    \n",
    "    #create plots\n",
    "    plt.figure(figsize=(16,4))\n",
    "    plt.subplot(1, 2, 1)\n",
    "    #histplot\n",
    "    sns.histplot(data = df, x = variable, kde=True)\n",
    "    plt.title(variable)\n",
    "    plt.subplot(1, 2, 2)\n",
    "    #boxplot\n",
    "    sns.boxplot(x=variable, data=df)\n",
    "    plt.axvline(lower_bound, color='red')\n",
    "    plt.axvline(upper_bound, color='red')\n",
    "    plt.title(variable)\n",
    "    plt.show()"
   ]
  },
  {
   "cell_type": "code",
   "execution_count": 14,
   "metadata": {},
   "outputs": [],
   "source": [
    "## walkthrough teacher function\n",
    "def get_bounds(col, mult=1.5):\n",
    "    '''\n",
    "    positional argument: col,a pandas Series\n",
    "    kwarg: mult: float vale representing multiplier in tukey IQR boundaries\n",
    "    return: lower_bound, upper_bound, two float values represeting the fense values of our based boundaries\n",
    "    '''\n",
    "    q1 = col.quantile(0.25)\n",
    "    q3 = col.quantile(0.75)\n",
    "    iqr = q3-q1\n",
    "    lower_bound= q1- (iqr*mult)\n",
    "    upper_bound= q3 + (iqr*mult)\n",
    "    \n",
    "    return lower_bound, upper_bound"
   ]
  },
  {
   "cell_type": "markdown",
   "metadata": {},
   "source": [
    "______________________________________________"
   ]
  },
  {
   "cell_type": "markdown",
   "metadata": {},
   "source": [
    "### 1 Using lemonade.csv dataset and focusing on continuous variables:"
   ]
  },
  {
   "cell_type": "code",
   "execution_count": 21,
   "metadata": {},
   "outputs": [
    {
     "name": "stdout",
     "output_type": "stream",
     "text": [
      " Lower bound for Temperature : 16.700000000000003\n",
      " Upper bound for Temperature: 104.7\n",
      "\n",
      "----------------------\n",
      "\n",
      " Lower bound for Rainfall : 0.26\n",
      " Upper bound for Rainfall: 1.3\n",
      "\n",
      "----------------------\n",
      "\n",
      " Lower bound for Flyers : 4.0\n",
      " Upper bound for Flyers: 76.0\n",
      "\n",
      "----------------------\n",
      "\n",
      " Lower bound for Price : 0.5\n",
      " Upper bound for Price: 0.5\n",
      "\n",
      "----------------------\n",
      "\n",
      " Lower bound for Sales : 5.0\n",
      " Upper bound for Sales: 45.0\n",
      "\n",
      "----------------------\n",
      "\n",
      " Lower bound for Year : 2017.0\n",
      " Upper bound for Year: 2017.0\n",
      "\n",
      "----------------------\n",
      "\n"
     ]
    }
   ],
   "source": [
    "outlier = {}\n",
    "for col in df.columns:\n",
    "    if np.issubdtype(df[col].dtype, np.number):\n",
    "        lower_bound, upper_bound = get_bounds(df[col])\n",
    "        print(f' Lower bound for {col} : {lower_bound}\\n Upper bound for {col}: {upper_bound}\\n')\n",
    "        print('----------------------\\n')\n",
    "        outlier[col]={}\n",
    "        outlier[col]['bounds'] = {'upper': upper_bound, 'lower': lower_bound}\n",
    "        outlier[col]['df'] = df[(df[col]> upper_bound) | (df[col] < lower_bound)]\n",
    "    else:\n",
    "        pass"
   ]
  },
  {
   "cell_type": "markdown",
   "metadata": {},
   "source": [
    "#### 1a. Use the IQR Range Rule and the upper and lower bounds to identify the lower outliers of each column of lemonade.csv, using the multiplier of 1.5. \n",
    "<br>\n",
    "\n",
    "- Do these lower outliers make sense?\n",
    "    - Answer: no\n",
    "        - cannot pass out -40 flyers\n",
    "        - prices are all $0.50\n",
    "        \n",
    "<br>    \n",
    "\n",
    "- Which outliers should be kept?"
   ]
  },
  {
   "cell_type": "code",
   "execution_count": 15,
   "metadata": {},
   "outputs": [
    {
     "data": {
      "text/plain": [
       "(0.26, 1.3)"
      ]
     },
     "execution_count": 15,
     "metadata": {},
     "output_type": "execute_result"
    }
   ],
   "source": [
    "#teacher function\n",
    "get_bounds(df['Rainfall'])"
   ]
  },
  {
   "cell_type": "code",
   "execution_count": 11,
   "metadata": {},
   "outputs": [
    {
     "name": "stdout",
     "output_type": "stream",
     "text": [
      "Using Temperature:\n",
      "the lower bound is: 16.7\n",
      "the upper bound is: 104.7\n"
     ]
    },
    {
     "data": {
      "image/png": "[encoded data removed]",
      "text/plain": [
       "<Figure size 1152x288 with 2 Axes>"
      ]
     },
     "metadata": {
      "needs_background": "light"
     },
     "output_type": "display_data"
    }
   ],
   "source": [
    "#get Temp bounds\n",
    "get_lower_and_upper_bounds(df, 'Temperature', 1.5)"
   ]
  },
  {
   "cell_type": "code",
   "execution_count": 12,
   "metadata": {},
   "outputs": [
    {
     "data": {
      "text/plain": [
       "<matplotlib.collections.PathCollection at 0x7fe74002f370>"
      ]
     },
     "execution_count": 12,
     "metadata": {},
     "output_type": "execute_result"
    },
    {
     "data": {
      "image/png": "[encoded data removed]",
      "text/plain": [
       "<Figure size 432x288 with 1 Axes>"
      ]
     },
     "metadata": {
      "needs_background": "light"
     },
     "output_type": "display_data"
    }
   ],
   "source": [
    "#look further into that hot day\n",
    "plt.scatter(df.Month, df.Temperature)\n",
    "\n",
    "#not very likely that it be 'that' hot in february"
   ]
  },
  {
   "cell_type": "code",
   "execution_count": 13,
   "metadata": {},
   "outputs": [
    {
     "data": {
      "text/html": [
       "<div>\n",
       "<style scoped>\n",
       "    .dataframe tbody tr th:only-of-type {\n",
       "        vertical-align: middle;\n",
       "    }\n",
       "\n",
       "    .dataframe tbody tr th {\n",
       "        vertical-align: top;\n",
       "    }\n",
       "\n",
       "    .dataframe thead th {\n",
       "        text-align: right;\n",
       "    }\n",
       "</style>\n",
       "<table border=\"1\" class=\"dataframe\">\n",
       "  <thead>\n",
       "    <tr style=\"text-align: right;\">\n",
       "      <th></th>\n",
       "      <th>Day</th>\n",
       "      <th>Temperature</th>\n",
       "      <th>Rainfall</th>\n",
       "      <th>Flyers</th>\n",
       "      <th>Price</th>\n",
       "      <th>Sales</th>\n",
       "      <th>Month</th>\n",
       "      <th>Year</th>\n",
       "    </tr>\n",
       "    <tr>\n",
       "      <th>Date</th>\n",
       "      <th></th>\n",
       "      <th></th>\n",
       "      <th></th>\n",
       "      <th></th>\n",
       "      <th></th>\n",
       "      <th></th>\n",
       "      <th></th>\n",
       "      <th></th>\n",
       "    </tr>\n",
       "  </thead>\n",
       "  <tbody>\n",
       "    <tr>\n",
       "      <th>2017-02-11</th>\n",
       "      <td>Saturday</td>\n",
       "      <td>212.0</td>\n",
       "      <td>0.91</td>\n",
       "      <td>35</td>\n",
       "      <td>0.5</td>\n",
       "      <td>21</td>\n",
       "      <td>February</td>\n",
       "      <td>2017</td>\n",
       "    </tr>\n",
       "  </tbody>\n",
       "</table>\n",
       "</div>"
      ],
      "text/plain": [
       "                 Day  Temperature  Rainfall  Flyers  Price  Sales     Month  \\\n",
       "Date                                                                          \n",
       "2017-02-11  Saturday        212.0      0.91      35    0.5     21  February   \n",
       "\n",
       "            Year  \n",
       "Date              \n",
       "2017-02-11  2017  "
      ]
     },
     "execution_count": 13,
     "metadata": {},
     "output_type": "execute_result"
    }
   ],
   "source": [
    "#look at specific days where temp were outliers\n",
    "df[df['Temperature'] > 104]"
   ]
  },
  {
   "cell_type": "code",
   "execution_count": 14,
   "metadata": {},
   "outputs": [
    {
     "name": "stdout",
     "output_type": "stream",
     "text": [
      "Using Rainfall:\n",
      "the lower bound is: 0.26\n",
      "the upper bound is: 1.3\n"
     ]
    },
    {
     "data": {
      "image/png": "[encoded data removed]",
      "text/plain": [
       "<Figure size 1152x288 with 2 Axes>"
      ]
     },
     "metadata": {
      "needs_background": "light"
     },
     "output_type": "display_data"
    }
   ],
   "source": [
    "#get rainfall bounds\n",
    "get_lower_and_upper_bounds(df, 'Rainfall', 1.5)"
   ]
  },
  {
   "cell_type": "code",
   "execution_count": 15,
   "metadata": {},
   "outputs": [
    {
     "name": "stdout",
     "output_type": "stream",
     "text": [
      "Using Flyers:\n",
      "the lower bound is: 4.0\n",
      "the upper bound is: 76.0\n"
     ]
    },
    {
     "data": {
      "image/png": "[encoded data removed]",
      "text/plain": [
       "<Figure size 1152x288 with 2 Axes>"
      ]
     },
     "metadata": {
      "needs_background": "light"
     },
     "output_type": "display_data"
    }
   ],
   "source": [
    "#get flyers bounds\n",
    "get_lower_and_upper_bounds(df, 'Flyers', 1.5)"
   ]
  },
  {
   "cell_type": "code",
   "execution_count": 16,
   "metadata": {},
   "outputs": [
    {
     "name": "stdout",
     "output_type": "stream",
     "text": [
      "Using Price:\n",
      "the lower bound is: 0.5\n",
      "the upper bound is: 0.5\n"
     ]
    },
    {
     "name": "stderr",
     "output_type": "stream",
     "text": [
      "/opt/homebrew/anaconda3/lib/python3.8/site-packages/seaborn/distributions.py:305: UserWarning: Dataset has 0 variance; skipping density estimate.\n",
      "  warnings.warn(msg, UserWarning)\n"
     ]
    },
    {
     "data": {
      "image/png": "[encoded data removed]",
      "text/plain": [
       "<Figure size 1152x288 with 2 Axes>"
      ]
     },
     "metadata": {
      "needs_background": "light"
     },
     "output_type": "display_data"
    }
   ],
   "source": [
    "#get price bounds\n",
    "get_lower_and_upper_bounds(df, 'Price', 1.5)"
   ]
  },
  {
   "cell_type": "code",
   "execution_count": 17,
   "metadata": {},
   "outputs": [
    {
     "name": "stdout",
     "output_type": "stream",
     "text": [
      "Using Sales:\n",
      "the lower bound is: 5.0\n",
      "the upper bound is: 45.0\n"
     ]
    },
    {
     "data": {
      "image/png": "[encoded data removed]",
      "text/plain": [
       "<Figure size 1152x288 with 2 Axes>"
      ]
     },
     "metadata": {
      "needs_background": "light"
     },
     "output_type": "display_data"
    }
   ],
   "source": [
    "#get sales bounds\n",
    "get_lower_and_upper_bounds(df, 'Sales', 1.5)"
   ]
  },
  {
   "cell_type": "code",
   "execution_count": 18,
   "metadata": {},
   "outputs": [
    {
     "data": {
      "text/plain": [
       "<matplotlib.collections.PathCollection at 0x7fe732ad7c70>"
      ]
     },
     "execution_count": 18,
     "metadata": {},
     "output_type": "execute_result"
    },
    {
     "data": {
      "image/png": "[encoded data removed]",
      "text/plain": [
       "<Figure size 432x288 with 1 Axes>"
      ]
     },
     "metadata": {
      "needs_background": "light"
     },
     "output_type": "display_data"
    }
   ],
   "source": [
    "#look into that high sell period\n",
    "plt.scatter(df.Month, df.Sales)\n",
    "\n",
    "#looks like high sales were in july!\n",
    "#hot months and july 4 holiday so it is possible"
   ]
  },
  {
   "cell_type": "code",
   "execution_count": 19,
   "metadata": {},
   "outputs": [
    {
     "data": {
      "text/html": [
       "<div>\n",
       "<style scoped>\n",
       "    .dataframe tbody tr th:only-of-type {\n",
       "        vertical-align: middle;\n",
       "    }\n",
       "\n",
       "    .dataframe tbody tr th {\n",
       "        vertical-align: top;\n",
       "    }\n",
       "\n",
       "    .dataframe thead th {\n",
       "        text-align: right;\n",
       "    }\n",
       "</style>\n",
       "<table border=\"1\" class=\"dataframe\">\n",
       "  <thead>\n",
       "    <tr style=\"text-align: right;\">\n",
       "      <th></th>\n",
       "      <th>Day</th>\n",
       "      <th>Temperature</th>\n",
       "      <th>Rainfall</th>\n",
       "      <th>Flyers</th>\n",
       "      <th>Price</th>\n",
       "      <th>Sales</th>\n",
       "      <th>Month</th>\n",
       "      <th>Year</th>\n",
       "    </tr>\n",
       "    <tr>\n",
       "      <th>Date</th>\n",
       "      <th></th>\n",
       "      <th></th>\n",
       "      <th></th>\n",
       "      <th></th>\n",
       "      <th></th>\n",
       "      <th></th>\n",
       "      <th></th>\n",
       "      <th></th>\n",
       "    </tr>\n",
       "  </thead>\n",
       "  <tbody>\n",
       "    <tr>\n",
       "      <th>2017-07-01</th>\n",
       "      <td>Saturday</td>\n",
       "      <td>102.9</td>\n",
       "      <td>0.47</td>\n",
       "      <td>59</td>\n",
       "      <td>0.5</td>\n",
       "      <td>143</td>\n",
       "      <td>July</td>\n",
       "      <td>2017</td>\n",
       "    </tr>\n",
       "    <tr>\n",
       "      <th>2017-07-02</th>\n",
       "      <td>Sunday</td>\n",
       "      <td>93.4</td>\n",
       "      <td>0.51</td>\n",
       "      <td>68</td>\n",
       "      <td>0.5</td>\n",
       "      <td>158</td>\n",
       "      <td>July</td>\n",
       "      <td>2017</td>\n",
       "    </tr>\n",
       "    <tr>\n",
       "      <th>2017-07-03</th>\n",
       "      <td>Monday</td>\n",
       "      <td>81.5</td>\n",
       "      <td>0.54</td>\n",
       "      <td>68</td>\n",
       "      <td>0.5</td>\n",
       "      <td>235</td>\n",
       "      <td>July</td>\n",
       "      <td>2017</td>\n",
       "    </tr>\n",
       "    <tr>\n",
       "      <th>2017-07-04</th>\n",
       "      <td>Tuesday</td>\n",
       "      <td>84.2</td>\n",
       "      <td>0.59</td>\n",
       "      <td>49</td>\n",
       "      <td>0.5</td>\n",
       "      <td>534</td>\n",
       "      <td>July</td>\n",
       "      <td>2017</td>\n",
       "    </tr>\n",
       "  </tbody>\n",
       "</table>\n",
       "</div>"
      ],
      "text/plain": [
       "                 Day  Temperature  Rainfall  Flyers  Price  Sales Month  Year\n",
       "Date                                                                         \n",
       "2017-07-01  Saturday        102.9      0.47      59    0.5    143  July  2017\n",
       "2017-07-02    Sunday         93.4      0.51      68    0.5    158  July  2017\n",
       "2017-07-03    Monday         81.5      0.54      68    0.5    235  July  2017\n",
       "2017-07-04   Tuesday         84.2      0.59      49    0.5    534  July  2017"
      ]
     },
     "execution_count": 19,
     "metadata": {},
     "output_type": "execute_result"
    }
   ],
   "source": [
    "#look at specific days where sales were outliers\n",
    "df[df['Sales'] > 45]"
   ]
  },
  {
   "cell_type": "code",
   "execution_count": 20,
   "metadata": {},
   "outputs": [
    {
     "data": {
      "text/html": [
       "<div>\n",
       "<style scoped>\n",
       "    .dataframe tbody tr th:only-of-type {\n",
       "        vertical-align: middle;\n",
       "    }\n",
       "\n",
       "    .dataframe tbody tr th {\n",
       "        vertical-align: top;\n",
       "    }\n",
       "\n",
       "    .dataframe thead th {\n",
       "        text-align: right;\n",
       "    }\n",
       "</style>\n",
       "<table border=\"1\" class=\"dataframe\">\n",
       "  <thead>\n",
       "    <tr style=\"text-align: right;\">\n",
       "      <th></th>\n",
       "      <th>Day</th>\n",
       "      <th>Temperature</th>\n",
       "      <th>Rainfall</th>\n",
       "      <th>Flyers</th>\n",
       "      <th>Price</th>\n",
       "      <th>Sales</th>\n",
       "      <th>Month</th>\n",
       "      <th>Year</th>\n",
       "    </tr>\n",
       "    <tr>\n",
       "      <th>Date</th>\n",
       "      <th></th>\n",
       "      <th></th>\n",
       "      <th></th>\n",
       "      <th></th>\n",
       "      <th></th>\n",
       "      <th></th>\n",
       "      <th></th>\n",
       "      <th></th>\n",
       "    </tr>\n",
       "  </thead>\n",
       "  <tbody>\n",
       "    <tr>\n",
       "      <th>2017-12-31</th>\n",
       "      <td>Sunday</td>\n",
       "      <td>15.1</td>\n",
       "      <td>2.5</td>\n",
       "      <td>9</td>\n",
       "      <td>0.5</td>\n",
       "      <td>7</td>\n",
       "      <td>December</td>\n",
       "      <td>2017</td>\n",
       "    </tr>\n",
       "  </tbody>\n",
       "</table>\n",
       "</div>"
      ],
      "text/plain": [
       "               Day  Temperature  Rainfall  Flyers  Price  Sales     Month  \\\n",
       "Date                                                                        \n",
       "2017-12-31  Sunday         15.1       2.5       9    0.5      7  December   \n",
       "\n",
       "            Year  \n",
       "Date              \n",
       "2017-12-31  2017  "
      ]
     },
     "execution_count": 20,
     "metadata": {},
     "output_type": "execute_result"
    }
   ],
   "source": [
    "#lowest sales of the year makes sense\n",
    "df[df['Sales'] == 7]"
   ]
  },
  {
   "cell_type": "markdown",
   "metadata": {},
   "source": [
    "_______________________"
   ]
  },
  {
   "cell_type": "markdown",
   "metadata": {},
   "source": [
    "#### 1b. Use the IQR Range Rule and the upper and lower bounds to identify the upper outliers of each column of lemonade.csv, using the multiplier of 1.5. \n",
    "\n",
    "<br>\n",
    "\n",
    "- Do these upper outliers make sense?\n",
    "    - temperature cannot be 200+ degrees\n",
    "    \n",
    "<br>\n",
    "    \n",
    "- Which outliers should be kept?\n",
    "    - Sales upper outlier- $500 in sales could be interesting\n",
    "    - Flyers upper outlier- passing out 80 flyers?"
   ]
  },
  {
   "cell_type": "code",
   "execution_count": null,
   "metadata": {},
   "outputs": [],
   "source": [
    "## see above 1a for visuals and upper outlier numbers"
   ]
  },
  {
   "cell_type": "markdown",
   "metadata": {},
   "source": [
    "_____________________________"
   ]
  },
  {
   "cell_type": "markdown",
   "metadata": {},
   "source": [
    "#### 1c. Using the multiplier of 3, IQR Range Rule, and the lower and upper bounds, identify the outliers below the lower bound in each colum of lemonade.csv. \n",
    "<br>\n",
    "\n",
    "- Do these lower outliers make sense?\n",
    "    - Answer: no\n",
    "        - cannot pass out -23 flyers\n",
    "        - cannot make -$10\n",
    "        - cannot rain -13 units\n",
    "\n",
    "<br>\n",
    "\n",
    "- Which outliers should be kept?\n",
    "    - Answer:\n",
    "        - Temperature\n",
    "        - Price"
   ]
  },
  {
   "cell_type": "code",
   "execution_count": 21,
   "metadata": {},
   "outputs": [
    {
     "name": "stdout",
     "output_type": "stream",
     "text": [
      "Using Temperature:\n",
      "the lower bound is: -16.3\n",
      "the upper bound is: 137.7\n"
     ]
    },
    {
     "data": {
      "image/png": "[encoded data removed]",
      "text/plain": [
       "<Figure size 1152x288 with 2 Axes>"
      ]
     },
     "metadata": {
      "needs_background": "light"
     },
     "output_type": "display_data"
    }
   ],
   "source": [
    "#get temp bounds with 3x\n",
    "get_lower_and_upper_bounds(df, 'Temperature', 3.0)"
   ]
  },
  {
   "cell_type": "code",
   "execution_count": 22,
   "metadata": {},
   "outputs": [
    {
     "name": "stdout",
     "output_type": "stream",
     "text": [
      "Using Rainfall:\n",
      "the lower bound is: -0.13\n",
      "the upper bound is: 1.69\n"
     ]
    },
    {
     "data": {
      "image/png": "[encoded data removed]",
      "text/plain": [
       "<Figure size 1152x288 with 2 Axes>"
      ]
     },
     "metadata": {
      "needs_background": "light"
     },
     "output_type": "display_data"
    }
   ],
   "source": [
    "#get rainfall bounds with 3x\n",
    "get_lower_and_upper_bounds(df, 'Rainfall', 3.0)"
   ]
  },
  {
   "cell_type": "code",
   "execution_count": 23,
   "metadata": {},
   "outputs": [
    {
     "name": "stdout",
     "output_type": "stream",
     "text": [
      "Using Flyers:\n",
      "the lower bound is: -23.0\n",
      "the upper bound is: 103.0\n"
     ]
    },
    {
     "data": {
      "image/png": "[encoded data removed]",
      "text/plain": [
       "<Figure size 1152x288 with 2 Axes>"
      ]
     },
     "metadata": {
      "needs_background": "light"
     },
     "output_type": "display_data"
    }
   ],
   "source": [
    "#get flyers bounds with 3x\n",
    "get_lower_and_upper_bounds(df, 'Flyers', 3.0)"
   ]
  },
  {
   "cell_type": "code",
   "execution_count": 24,
   "metadata": {},
   "outputs": [
    {
     "data": {
      "text/plain": [
       "-38"
      ]
     },
     "execution_count": 24,
     "metadata": {},
     "output_type": "execute_result"
    }
   ],
   "source": [
    "df.Flyers.min()"
   ]
  },
  {
   "cell_type": "code",
   "execution_count": 25,
   "metadata": {},
   "outputs": [
    {
     "name": "stdout",
     "output_type": "stream",
     "text": [
      "Using Price:\n",
      "the lower bound is: 0.5\n",
      "the upper bound is: 0.5\n"
     ]
    },
    {
     "name": "stderr",
     "output_type": "stream",
     "text": [
      "/opt/homebrew/anaconda3/lib/python3.8/site-packages/seaborn/distributions.py:305: UserWarning: Dataset has 0 variance; skipping density estimate.\n",
      "  warnings.warn(msg, UserWarning)\n"
     ]
    },
    {
     "data": {
      "image/png": "[encoded data removed]",
      "text/plain": [
       "<Figure size 1152x288 with 2 Axes>"
      ]
     },
     "metadata": {
      "needs_background": "light"
     },
     "output_type": "display_data"
    }
   ],
   "source": [
    "#get price bounds with 3x\n",
    "get_lower_and_upper_bounds(df, 'Price', 3.0)"
   ]
  },
  {
   "cell_type": "code",
   "execution_count": 26,
   "metadata": {},
   "outputs": [
    {
     "name": "stdout",
     "output_type": "stream",
     "text": [
      "Using Sales:\n",
      "the lower bound is: -10.0\n",
      "the upper bound is: 60.0\n"
     ]
    },
    {
     "data": {
      "image/png": "[encoded data removed]",
      "text/plain": [
       "<Figure size 1152x288 with 2 Axes>"
      ]
     },
     "metadata": {
      "needs_background": "light"
     },
     "output_type": "display_data"
    }
   ],
   "source": [
    "#get sales bounds with 3x\n",
    "get_lower_and_upper_bounds(df, 'Sales', 3.0)"
   ]
  },
  {
   "cell_type": "markdown",
   "metadata": {},
   "source": [
    "___________________________"
   ]
  },
  {
   "cell_type": "markdown",
   "metadata": {},
   "source": [
    "#### 1d. Using the multiplier of 3, IQR Range Rule, and the lower and upper bounds, identify the outliers above the upper_bound in each colum of lemonade.csv. \n",
    "- Do these upper outliers make sense? \n",
    "    - Answer: no\n",
    "        - temperature cannot be that high\n",
    "    \n",
    "- Which outliers should be kept?\n",
    "    - Answer:\n",
    "        - Flyers\n",
    "        - Sales\n",
    "        - Rainfall"
   ]
  },
  {
   "cell_type": "code",
   "execution_count": null,
   "metadata": {},
   "outputs": [],
   "source": [
    "## see 1c for visuals and numeric infomation regarding upper bounds"
   ]
  },
  {
   "cell_type": "code",
   "execution_count": 27,
   "metadata": {},
   "outputs": [
    {
     "data": {
      "text/html": [
       "<div>\n",
       "<style scoped>\n",
       "    .dataframe tbody tr th:only-of-type {\n",
       "        vertical-align: middle;\n",
       "    }\n",
       "\n",
       "    .dataframe tbody tr th {\n",
       "        vertical-align: top;\n",
       "    }\n",
       "\n",
       "    .dataframe thead th {\n",
       "        text-align: right;\n",
       "    }\n",
       "</style>\n",
       "<table border=\"1\" class=\"dataframe\">\n",
       "  <thead>\n",
       "    <tr style=\"text-align: right;\">\n",
       "      <th></th>\n",
       "      <th>Temperature</th>\n",
       "      <th>Rainfall</th>\n",
       "      <th>Flyers</th>\n",
       "      <th>Price</th>\n",
       "      <th>Sales</th>\n",
       "      <th>Year</th>\n",
       "    </tr>\n",
       "  </thead>\n",
       "  <tbody>\n",
       "    <tr>\n",
       "      <th>count</th>\n",
       "      <td>365.000000</td>\n",
       "      <td>365.000000</td>\n",
       "      <td>365.000000</td>\n",
       "      <td>365.0</td>\n",
       "      <td>365.000000</td>\n",
       "      <td>365.0</td>\n",
       "    </tr>\n",
       "    <tr>\n",
       "      <th>mean</th>\n",
       "      <td>61.224658</td>\n",
       "      <td>0.825973</td>\n",
       "      <td>40.104110</td>\n",
       "      <td>0.5</td>\n",
       "      <td>27.865753</td>\n",
       "      <td>2017.0</td>\n",
       "    </tr>\n",
       "    <tr>\n",
       "      <th>std</th>\n",
       "      <td>18.085892</td>\n",
       "      <td>0.273890</td>\n",
       "      <td>13.786445</td>\n",
       "      <td>0.0</td>\n",
       "      <td>30.948132</td>\n",
       "      <td>0.0</td>\n",
       "    </tr>\n",
       "    <tr>\n",
       "      <th>min</th>\n",
       "      <td>15.100000</td>\n",
       "      <td>0.400000</td>\n",
       "      <td>-38.000000</td>\n",
       "      <td>0.5</td>\n",
       "      <td>7.000000</td>\n",
       "      <td>2017.0</td>\n",
       "    </tr>\n",
       "    <tr>\n",
       "      <th>25%</th>\n",
       "      <td>49.700000</td>\n",
       "      <td>0.650000</td>\n",
       "      <td>31.000000</td>\n",
       "      <td>0.5</td>\n",
       "      <td>20.000000</td>\n",
       "      <td>2017.0</td>\n",
       "    </tr>\n",
       "    <tr>\n",
       "      <th>50%</th>\n",
       "      <td>61.100000</td>\n",
       "      <td>0.740000</td>\n",
       "      <td>39.000000</td>\n",
       "      <td>0.5</td>\n",
       "      <td>25.000000</td>\n",
       "      <td>2017.0</td>\n",
       "    </tr>\n",
       "    <tr>\n",
       "      <th>75%</th>\n",
       "      <td>71.700000</td>\n",
       "      <td>0.910000</td>\n",
       "      <td>49.000000</td>\n",
       "      <td>0.5</td>\n",
       "      <td>30.000000</td>\n",
       "      <td>2017.0</td>\n",
       "    </tr>\n",
       "    <tr>\n",
       "      <th>max</th>\n",
       "      <td>212.000000</td>\n",
       "      <td>2.500000</td>\n",
       "      <td>80.000000</td>\n",
       "      <td>0.5</td>\n",
       "      <td>534.000000</td>\n",
       "      <td>2017.0</td>\n",
       "    </tr>\n",
       "  </tbody>\n",
       "</table>\n",
       "</div>"
      ],
      "text/plain": [
       "       Temperature    Rainfall      Flyers  Price       Sales    Year\n",
       "count   365.000000  365.000000  365.000000  365.0  365.000000   365.0\n",
       "mean     61.224658    0.825973   40.104110    0.5   27.865753  2017.0\n",
       "std      18.085892    0.273890   13.786445    0.0   30.948132     0.0\n",
       "min      15.100000    0.400000  -38.000000    0.5    7.000000  2017.0\n",
       "25%      49.700000    0.650000   31.000000    0.5   20.000000  2017.0\n",
       "50%      61.100000    0.740000   39.000000    0.5   25.000000  2017.0\n",
       "75%      71.700000    0.910000   49.000000    0.5   30.000000  2017.0\n",
       "max     212.000000    2.500000   80.000000    0.5  534.000000  2017.0"
      ]
     },
     "execution_count": 27,
     "metadata": {},
     "output_type": "execute_result"
    }
   ],
   "source": [
    "df.describe()"
   ]
  },
  {
   "cell_type": "markdown",
   "metadata": {},
   "source": [
    "### Takeaways:\n",
    "- **Temperature** \n",
    "    - upper outlier of 212 degrees isnt possible (drop)\n",
    "        - it is likely a clerical error/noise\n",
    "        - in February is was probably 21 degrees (typo)\n",
    "    - lower outlier of 7 degrees is possible (keep)\n",
    "    \n",
    "    <br>\n",
    "    \n",
    "- **Rainfall**\n",
    "    - both lower of 0.4 and upper of 2.5 are possible (keep)\n",
    "    \n",
    "    <br>\n",
    "    \n",
    "- **Flyers** \n",
    "    - lower outlier of -38 is not possible/noise (drop) \n",
    "    - upper outlier of 80 is interesting (keep)\n",
    "    \n",
    "    <br>\n",
    "    \n",
    "- **Price**\n",
    "    - price stayed consistent at $0.50 \n",
    "    - no outliers noted\n",
    "    \n",
    "    <br>\n",
    "    \n",
    "- **Sales** \n",
    "    - upper bound outlier was 4th of July weekend, so it is possible (keep)\n",
    "    - lower outlier of 7 makes sense (keep)\n",
    "        - was 15 degrees and rained\n",
    "    "
   ]
  },
  {
   "cell_type": "markdown",
   "metadata": {},
   "source": [
    "<hr style=\"border:2px solid black\"> </hr>"
   ]
  },
  {
   "cell_type": "markdown",
   "metadata": {},
   "source": [
    "### 2. Identify if any columns in lemonade.csv are normally distributed. For normally distributed columns:"
   ]
  },
  {
   "cell_type": "code",
   "execution_count": 28,
   "metadata": {},
   "outputs": [
    {
     "data": {
      "image/png": "[encoded data removed]",
      "text/plain": [
       "<Figure size 432x288 with 1 Axes>"
      ]
     },
     "metadata": {
      "needs_background": "light"
     },
     "output_type": "display_data"
    },
    {
     "data": {
      "image/png": "[encoded data removed]",
      "text/plain": [
       "<Figure size 432x288 with 1 Axes>"
      ]
     },
     "metadata": {
      "needs_background": "light"
     },
     "output_type": "display_data"
    },
    {
     "data": {
      "image/png": "[encoded data removed]",
      "text/plain": [
       "<Figure size 432x288 with 1 Axes>"
      ]
     },
     "metadata": {
      "needs_background": "light"
     },
     "output_type": "display_data"
    },
    {
     "data": {
      "image/png": "[encoded data removed]",
      "text/plain": [
       "<Figure size 432x288 with 1 Axes>"
      ]
     },
     "metadata": {
      "needs_background": "light"
     },
     "output_type": "display_data"
    },
    {
     "data": {
      "image/png": "[encoded data removed]",
      "text/plain": [
       "<Figure size 432x288 with 1 Axes>"
      ]
     },
     "metadata": {
      "needs_background": "light"
     },
     "output_type": "display_data"
    },
    {
     "data": {
      "image/png": "[encoded data removed]",
      "text/plain": [
       "<Figure size 432x288 with 1 Axes>"
      ]
     },
     "metadata": {
      "needs_background": "light"
     },
     "output_type": "display_data"
    }
   ],
   "source": [
    "for col in df.columns:\n",
    "    #determine if is numeric dtype\n",
    "    if np.issubdtype(df[col].dtype, np.number):\n",
    "        #histogram if it is numeric\n",
    "        df[col].hist()\n",
    "        plt.title(col)\n",
    "        plt.show()"
   ]
  },
  {
   "cell_type": "markdown",
   "metadata": {},
   "source": [
    "#### 2a. Use a 2 sigma decision rule to isolate the outliers."
   ]
  },
  {
   "cell_type": "code",
   "execution_count": 22,
   "metadata": {},
   "outputs": [],
   "source": [
    "#assign columns with normal distribution to variable\n",
    "norcols = ['Temperature', 'Rainfall', 'Flyers']"
   ]
  },
  {
   "cell_type": "code",
   "execution_count": 26,
   "metadata": {},
   "outputs": [
    {
     "name": "stdout",
     "output_type": "stream",
     "text": [
      "Temperature\n",
      "                 Day  Temperature  Rainfall  Flyers  Price  Sales     Month  \\\n",
      "Date                                                                          \n",
      "2017-02-11  Saturday        212.0      0.91      35    0.5     21  February   \n",
      "2017-06-16    Friday         99.3      0.47      77    0.5     41      June   \n",
      "2017-06-26    Monday        102.6      0.47      60    0.5     42      June   \n",
      "2017-07-01  Saturday        102.9      0.47      59    0.5    143      July   \n",
      "2017-07-10    Monday         98.0      0.49      66    0.5     40      July   \n",
      "2017-07-18   Tuesday         99.3      0.47      76    0.5     41      July   \n",
      "2017-07-22  Saturday         99.6      0.47      49    0.5     42      July   \n",
      "2017-07-27  Thursday         97.9      0.47      74    0.5     43      July   \n",
      "2017-12-05   Tuesday         22.0      1.82      11    0.5     10  December   \n",
      "2017-12-31    Sunday         15.1      2.50       9    0.5      7  December   \n",
      "\n",
      "            Year  z_score_Temperature  \n",
      "Date                                   \n",
      "2017-02-11  2017             8.336627  \n",
      "2017-06-16  2017             2.105251  \n",
      "2017-06-26  2017             2.287714  \n",
      "2017-07-01  2017             2.304301  \n",
      "2017-07-10  2017             2.033372  \n",
      "2017-07-18  2017             2.105251  \n",
      "2017-07-22  2017             2.121838  \n",
      "2017-07-27  2017             2.027843  \n",
      "2017-12-05  2017            -2.168799  \n",
      "2017-12-31  2017            -2.550311  \n",
      "----------------\n",
      "\n",
      "Rainfall\n",
      "                  Day  Temperature  Rainfall  Flyers  Price  Sales     Month  \\\n",
      "Date                                                                           \n",
      "2017-01-01     Sunday         27.0      2.00      15    0.5     10   January   \n",
      "2017-01-06     Friday         25.3      1.54      23    0.5     11   January   \n",
      "2017-01-07   Saturday         32.9      1.54      19    0.5     13   January   \n",
      "2017-01-11  Wednesday         32.6      1.54      23    0.5     12   January   \n",
      "2017-01-16     Monday         30.6      1.67      24    0.5     12   January   \n",
      "2017-01-17    Tuesday         32.2      1.43      26    0.5     14   January   \n",
      "2017-01-20     Friday         31.6      1.43      20    0.5     12   January   \n",
      "2017-01-24    Tuesday         28.6      1.54      20    0.5     12   January   \n",
      "2017-12-04     Monday         34.9      1.54      16    0.5     13  December   \n",
      "2017-12-05    Tuesday         22.0      1.82      11    0.5     10  December   \n",
      "2017-12-09   Saturday         31.2      1.43      19    0.5     14  December   \n",
      "2017-12-10     Sunday         31.3      1.82      15    0.5     11  December   \n",
      "2017-12-13  Wednesday         32.2      1.43      26    0.5     14  December   \n",
      "2017-12-14   Thursday         31.9      1.54      24    0.5     13  December   \n",
      "2017-12-18     Monday         30.9      1.43      27    0.5     13  December   \n",
      "2017-12-22     Friday         30.9      1.54      17    0.5     13  December   \n",
      "2017-12-26    Tuesday         28.9      1.43      23    0.5     13  December   \n",
      "2017-12-30   Saturday         30.9      1.43      22    0.5     13  December   \n",
      "2017-12-31     Sunday         15.1      2.50       9    0.5      7  December   \n",
      "\n",
      "            Year  z_score_Temperature  z_score_Rainfall  \n",
      "Date                                                     \n",
      "2017-01-01  2017            -1.892340          4.286488  \n",
      "2017-01-06  2017            -1.986336          2.606983  \n",
      "2017-01-07  2017            -1.566119          2.606983  \n",
      "2017-01-11  2017            -1.582706          2.606983  \n",
      "2017-01-16  2017            -1.693290          3.081626  \n",
      "2017-01-17  2017            -1.604823          2.205363  \n",
      "2017-01-20  2017            -1.637998          2.205363  \n",
      "2017-01-24  2017            -1.803873          2.606983  \n",
      "2017-12-04  2017            -1.455535          2.606983  \n",
      "2017-12-05  2017            -2.168799          3.629291  \n",
      "2017-12-09  2017            -1.660115          2.205363  \n",
      "2017-12-10  2017            -1.654586          3.629291  \n",
      "2017-12-13  2017            -1.604823          2.205363  \n",
      "2017-12-14  2017            -1.621411          2.606983  \n",
      "2017-12-18  2017            -1.676702          2.205363  \n",
      "2017-12-22  2017            -1.676702          2.606983  \n",
      "2017-12-26  2017            -1.787286          2.205363  \n",
      "2017-12-30  2017            -1.676702          2.205363  \n",
      "2017-12-31  2017            -2.550311          6.112037  \n",
      "----------------\n",
      "\n",
      "Flyers\n",
      "                  Day  Temperature  Rainfall  Flyers  Price  Sales     Month  \\\n",
      "Date                                                                           \n",
      "2017-06-16     Friday         99.3      0.47      77    0.5     41      June   \n",
      "2017-06-20    Tuesday         85.1      0.54      70    0.5     37      June   \n",
      "2017-06-21  Wednesday         94.3      0.47      76    0.5     41      June   \n",
      "2017-07-02     Sunday         93.4      0.51      68    0.5    158      July   \n",
      "2017-07-03     Monday         81.5      0.54      68    0.5    235      July   \n",
      "2017-07-14     Friday         92.0      0.50      80    0.5     40      July   \n",
      "2017-07-18    Tuesday         99.3      0.47      76    0.5     41      July   \n",
      "2017-07-23     Sunday         89.1      0.51      72    0.5     37      July   \n",
      "2017-07-24     Monday         83.5      0.57      69    0.5     35      July   \n",
      "2017-07-27   Thursday         97.9      0.47      74    0.5     43      July   \n",
      "2017-11-21    Tuesday         47.0      0.95     -38    0.5     20  November   \n",
      "2017-12-05    Tuesday         22.0      1.82      11    0.5     10  December   \n",
      "2017-12-31     Sunday         15.1      2.50       9    0.5      7  December   \n",
      "\n",
      "            Year  z_score_Temperature  z_score_Rainfall  z_score_Flyers  \n",
      "Date                                                                     \n",
      "2017-06-16  2017             2.105251         -1.299691        2.676244  \n",
      "2017-06-20  2017             1.320109         -1.044114        2.168499  \n",
      "2017-06-21  2017             1.828792         -1.299691        2.603709  \n",
      "2017-07-02  2017             1.779030         -1.153647        2.023429  \n",
      "2017-07-03  2017             1.121058         -1.044114        2.023429  \n",
      "2017-07-14  2017             1.701621         -1.190158        2.893849  \n",
      "2017-07-18  2017             2.105251         -1.299691        2.603709  \n",
      "2017-07-23  2017             1.541275         -1.153647        2.313569  \n",
      "2017-07-24  2017             1.231642         -0.934581        2.095964  \n",
      "2017-07-27  2017             2.027843         -1.299691        2.458639  \n",
      "2017-11-21  2017            -0.786506          0.452836       -5.665283  \n",
      "2017-12-05  2017            -2.168799          3.629291       -2.111067  \n",
      "2017-12-31  2017            -2.550311          6.112037       -2.256137  \n",
      "----------------\n",
      "\n"
     ]
    }
   ],
   "source": [
    "for col in norcols:\n",
    "    df['z_score_'+col] = (df[col] -df[col].mean()) /df[col].std()\n",
    "    print(col)\n",
    "    print(df[df['z_score_'+ col].abs() >2])\n",
    "    print('----------------\\n')"
   ]
  },
  {
   "cell_type": "code",
   "execution_count": null,
   "metadata": {},
   "outputs": [],
   "source": []
  },
  {
   "cell_type": "code",
   "execution_count": 29,
   "metadata": {},
   "outputs": [],
   "source": [
    "#create column that shows zscore for flyers\n",
    "df['zscore_flyer'] = (df.Flyers - df.Flyers.mean()) / df.Flyers.std()"
   ]
  },
  {
   "cell_type": "code",
   "execution_count": 30,
   "metadata": {},
   "outputs": [
    {
     "data": {
      "text/html": [
       "<div>\n",
       "<style scoped>\n",
       "    .dataframe tbody tr th:only-of-type {\n",
       "        vertical-align: middle;\n",
       "    }\n",
       "\n",
       "    .dataframe tbody tr th {\n",
       "        vertical-align: top;\n",
       "    }\n",
       "\n",
       "    .dataframe thead th {\n",
       "        text-align: right;\n",
       "    }\n",
       "</style>\n",
       "<table border=\"1\" class=\"dataframe\">\n",
       "  <thead>\n",
       "    <tr style=\"text-align: right;\">\n",
       "      <th></th>\n",
       "      <th>Day</th>\n",
       "      <th>Temperature</th>\n",
       "      <th>Rainfall</th>\n",
       "      <th>Flyers</th>\n",
       "      <th>Price</th>\n",
       "      <th>Sales</th>\n",
       "      <th>Month</th>\n",
       "      <th>Year</th>\n",
       "      <th>zscore_flyer</th>\n",
       "    </tr>\n",
       "    <tr>\n",
       "      <th>Date</th>\n",
       "      <th></th>\n",
       "      <th></th>\n",
       "      <th></th>\n",
       "      <th></th>\n",
       "      <th></th>\n",
       "      <th></th>\n",
       "      <th></th>\n",
       "      <th></th>\n",
       "      <th></th>\n",
       "    </tr>\n",
       "  </thead>\n",
       "  <tbody>\n",
       "    <tr>\n",
       "      <th>2017-01-01</th>\n",
       "      <td>Sunday</td>\n",
       "      <td>27.0</td>\n",
       "      <td>2.00</td>\n",
       "      <td>15</td>\n",
       "      <td>0.5</td>\n",
       "      <td>10</td>\n",
       "      <td>January</td>\n",
       "      <td>2017</td>\n",
       "      <td>-1.820927</td>\n",
       "    </tr>\n",
       "    <tr>\n",
       "      <th>2017-01-02</th>\n",
       "      <td>Monday</td>\n",
       "      <td>28.9</td>\n",
       "      <td>1.33</td>\n",
       "      <td>15</td>\n",
       "      <td>0.5</td>\n",
       "      <td>13</td>\n",
       "      <td>January</td>\n",
       "      <td>2017</td>\n",
       "      <td>-1.820927</td>\n",
       "    </tr>\n",
       "    <tr>\n",
       "      <th>2017-01-03</th>\n",
       "      <td>Tuesday</td>\n",
       "      <td>34.5</td>\n",
       "      <td>1.33</td>\n",
       "      <td>27</td>\n",
       "      <td>0.5</td>\n",
       "      <td>15</td>\n",
       "      <td>January</td>\n",
       "      <td>2017</td>\n",
       "      <td>-0.950507</td>\n",
       "    </tr>\n",
       "    <tr>\n",
       "      <th>2017-01-04</th>\n",
       "      <td>Wednesday</td>\n",
       "      <td>44.1</td>\n",
       "      <td>1.05</td>\n",
       "      <td>28</td>\n",
       "      <td>0.5</td>\n",
       "      <td>17</td>\n",
       "      <td>January</td>\n",
       "      <td>2017</td>\n",
       "      <td>-0.877972</td>\n",
       "    </tr>\n",
       "    <tr>\n",
       "      <th>2017-01-05</th>\n",
       "      <td>Thursday</td>\n",
       "      <td>42.4</td>\n",
       "      <td>1.00</td>\n",
       "      <td>33</td>\n",
       "      <td>0.5</td>\n",
       "      <td>18</td>\n",
       "      <td>January</td>\n",
       "      <td>2017</td>\n",
       "      <td>-0.515297</td>\n",
       "    </tr>\n",
       "  </tbody>\n",
       "</table>\n",
       "</div>"
      ],
      "text/plain": [
       "                  Day  Temperature  Rainfall  Flyers  Price  Sales    Month  \\\n",
       "Date                                                                          \n",
       "2017-01-01     Sunday         27.0      2.00      15    0.5     10  January   \n",
       "2017-01-02     Monday         28.9      1.33      15    0.5     13  January   \n",
       "2017-01-03    Tuesday         34.5      1.33      27    0.5     15  January   \n",
       "2017-01-04  Wednesday         44.1      1.05      28    0.5     17  January   \n",
       "2017-01-05   Thursday         42.4      1.00      33    0.5     18  January   \n",
       "\n",
       "            Year  zscore_flyer  \n",
       "Date                            \n",
       "2017-01-01  2017     -1.820927  \n",
       "2017-01-02  2017     -1.820927  \n",
       "2017-01-03  2017     -0.950507  \n",
       "2017-01-04  2017     -0.877972  \n",
       "2017-01-05  2017     -0.515297  "
      ]
     },
     "execution_count": 30,
     "metadata": {},
     "output_type": "execute_result"
    }
   ],
   "source": [
    "df.head()"
   ]
  },
  {
   "cell_type": "code",
   "execution_count": 31,
   "metadata": {},
   "outputs": [
    {
     "data": {
      "text/html": [
       "<div>\n",
       "<style scoped>\n",
       "    .dataframe tbody tr th:only-of-type {\n",
       "        vertical-align: middle;\n",
       "    }\n",
       "\n",
       "    .dataframe tbody tr th {\n",
       "        vertical-align: top;\n",
       "    }\n",
       "\n",
       "    .dataframe thead th {\n",
       "        text-align: right;\n",
       "    }\n",
       "</style>\n",
       "<table border=\"1\" class=\"dataframe\">\n",
       "  <thead>\n",
       "    <tr style=\"text-align: right;\">\n",
       "      <th></th>\n",
       "      <th>Day</th>\n",
       "      <th>Temperature</th>\n",
       "      <th>Rainfall</th>\n",
       "      <th>Flyers</th>\n",
       "      <th>Price</th>\n",
       "      <th>Sales</th>\n",
       "      <th>Month</th>\n",
       "      <th>Year</th>\n",
       "      <th>zscore_flyer</th>\n",
       "    </tr>\n",
       "    <tr>\n",
       "      <th>Date</th>\n",
       "      <th></th>\n",
       "      <th></th>\n",
       "      <th></th>\n",
       "      <th></th>\n",
       "      <th></th>\n",
       "      <th></th>\n",
       "      <th></th>\n",
       "      <th></th>\n",
       "      <th></th>\n",
       "    </tr>\n",
       "  </thead>\n",
       "  <tbody>\n",
       "    <tr>\n",
       "      <th>2017-06-16</th>\n",
       "      <td>Friday</td>\n",
       "      <td>99.3</td>\n",
       "      <td>0.47</td>\n",
       "      <td>77</td>\n",
       "      <td>0.5</td>\n",
       "      <td>41</td>\n",
       "      <td>June</td>\n",
       "      <td>2017</td>\n",
       "      <td>2.676244</td>\n",
       "    </tr>\n",
       "    <tr>\n",
       "      <th>2017-06-20</th>\n",
       "      <td>Tuesday</td>\n",
       "      <td>85.1</td>\n",
       "      <td>0.54</td>\n",
       "      <td>70</td>\n",
       "      <td>0.5</td>\n",
       "      <td>37</td>\n",
       "      <td>June</td>\n",
       "      <td>2017</td>\n",
       "      <td>2.168499</td>\n",
       "    </tr>\n",
       "    <tr>\n",
       "      <th>2017-06-21</th>\n",
       "      <td>Wednesday</td>\n",
       "      <td>94.3</td>\n",
       "      <td>0.47</td>\n",
       "      <td>76</td>\n",
       "      <td>0.5</td>\n",
       "      <td>41</td>\n",
       "      <td>June</td>\n",
       "      <td>2017</td>\n",
       "      <td>2.603709</td>\n",
       "    </tr>\n",
       "    <tr>\n",
       "      <th>2017-07-02</th>\n",
       "      <td>Sunday</td>\n",
       "      <td>93.4</td>\n",
       "      <td>0.51</td>\n",
       "      <td>68</td>\n",
       "      <td>0.5</td>\n",
       "      <td>158</td>\n",
       "      <td>July</td>\n",
       "      <td>2017</td>\n",
       "      <td>2.023429</td>\n",
       "    </tr>\n",
       "    <tr>\n",
       "      <th>2017-07-03</th>\n",
       "      <td>Monday</td>\n",
       "      <td>81.5</td>\n",
       "      <td>0.54</td>\n",
       "      <td>68</td>\n",
       "      <td>0.5</td>\n",
       "      <td>235</td>\n",
       "      <td>July</td>\n",
       "      <td>2017</td>\n",
       "      <td>2.023429</td>\n",
       "    </tr>\n",
       "    <tr>\n",
       "      <th>2017-07-14</th>\n",
       "      <td>Friday</td>\n",
       "      <td>92.0</td>\n",
       "      <td>0.50</td>\n",
       "      <td>80</td>\n",
       "      <td>0.5</td>\n",
       "      <td>40</td>\n",
       "      <td>July</td>\n",
       "      <td>2017</td>\n",
       "      <td>2.893849</td>\n",
       "    </tr>\n",
       "    <tr>\n",
       "      <th>2017-07-18</th>\n",
       "      <td>Tuesday</td>\n",
       "      <td>99.3</td>\n",
       "      <td>0.47</td>\n",
       "      <td>76</td>\n",
       "      <td>0.5</td>\n",
       "      <td>41</td>\n",
       "      <td>July</td>\n",
       "      <td>2017</td>\n",
       "      <td>2.603709</td>\n",
       "    </tr>\n",
       "    <tr>\n",
       "      <th>2017-07-23</th>\n",
       "      <td>Sunday</td>\n",
       "      <td>89.1</td>\n",
       "      <td>0.51</td>\n",
       "      <td>72</td>\n",
       "      <td>0.5</td>\n",
       "      <td>37</td>\n",
       "      <td>July</td>\n",
       "      <td>2017</td>\n",
       "      <td>2.313569</td>\n",
       "    </tr>\n",
       "    <tr>\n",
       "      <th>2017-07-24</th>\n",
       "      <td>Monday</td>\n",
       "      <td>83.5</td>\n",
       "      <td>0.57</td>\n",
       "      <td>69</td>\n",
       "      <td>0.5</td>\n",
       "      <td>35</td>\n",
       "      <td>July</td>\n",
       "      <td>2017</td>\n",
       "      <td>2.095964</td>\n",
       "    </tr>\n",
       "    <tr>\n",
       "      <th>2017-07-27</th>\n",
       "      <td>Thursday</td>\n",
       "      <td>97.9</td>\n",
       "      <td>0.47</td>\n",
       "      <td>74</td>\n",
       "      <td>0.5</td>\n",
       "      <td>43</td>\n",
       "      <td>July</td>\n",
       "      <td>2017</td>\n",
       "      <td>2.458639</td>\n",
       "    </tr>\n",
       "    <tr>\n",
       "      <th>2017-11-21</th>\n",
       "      <td>Tuesday</td>\n",
       "      <td>47.0</td>\n",
       "      <td>0.95</td>\n",
       "      <td>-38</td>\n",
       "      <td>0.5</td>\n",
       "      <td>20</td>\n",
       "      <td>November</td>\n",
       "      <td>2017</td>\n",
       "      <td>-5.665283</td>\n",
       "    </tr>\n",
       "    <tr>\n",
       "      <th>2017-12-05</th>\n",
       "      <td>Tuesday</td>\n",
       "      <td>22.0</td>\n",
       "      <td>1.82</td>\n",
       "      <td>11</td>\n",
       "      <td>0.5</td>\n",
       "      <td>10</td>\n",
       "      <td>December</td>\n",
       "      <td>2017</td>\n",
       "      <td>-2.111067</td>\n",
       "    </tr>\n",
       "    <tr>\n",
       "      <th>2017-12-31</th>\n",
       "      <td>Sunday</td>\n",
       "      <td>15.1</td>\n",
       "      <td>2.50</td>\n",
       "      <td>9</td>\n",
       "      <td>0.5</td>\n",
       "      <td>7</td>\n",
       "      <td>December</td>\n",
       "      <td>2017</td>\n",
       "      <td>-2.256137</td>\n",
       "    </tr>\n",
       "  </tbody>\n",
       "</table>\n",
       "</div>"
      ],
      "text/plain": [
       "                  Day  Temperature  Rainfall  Flyers  Price  Sales     Month  \\\n",
       "Date                                                                           \n",
       "2017-06-16     Friday         99.3      0.47      77    0.5     41      June   \n",
       "2017-06-20    Tuesday         85.1      0.54      70    0.5     37      June   \n",
       "2017-06-21  Wednesday         94.3      0.47      76    0.5     41      June   \n",
       "2017-07-02     Sunday         93.4      0.51      68    0.5    158      July   \n",
       "2017-07-03     Monday         81.5      0.54      68    0.5    235      July   \n",
       "2017-07-14     Friday         92.0      0.50      80    0.5     40      July   \n",
       "2017-07-18    Tuesday         99.3      0.47      76    0.5     41      July   \n",
       "2017-07-23     Sunday         89.1      0.51      72    0.5     37      July   \n",
       "2017-07-24     Monday         83.5      0.57      69    0.5     35      July   \n",
       "2017-07-27   Thursday         97.9      0.47      74    0.5     43      July   \n",
       "2017-11-21    Tuesday         47.0      0.95     -38    0.5     20  November   \n",
       "2017-12-05    Tuesday         22.0      1.82      11    0.5     10  December   \n",
       "2017-12-31     Sunday         15.1      2.50       9    0.5      7  December   \n",
       "\n",
       "            Year  zscore_flyer  \n",
       "Date                            \n",
       "2017-06-16  2017      2.676244  \n",
       "2017-06-20  2017      2.168499  \n",
       "2017-06-21  2017      2.603709  \n",
       "2017-07-02  2017      2.023429  \n",
       "2017-07-03  2017      2.023429  \n",
       "2017-07-14  2017      2.893849  \n",
       "2017-07-18  2017      2.603709  \n",
       "2017-07-23  2017      2.313569  \n",
       "2017-07-24  2017      2.095964  \n",
       "2017-07-27  2017      2.458639  \n",
       "2017-11-21  2017     -5.665283  \n",
       "2017-12-05  2017     -2.111067  \n",
       "2017-12-31  2017     -2.256137  "
      ]
     },
     "execution_count": 31,
     "metadata": {},
     "output_type": "execute_result"
    }
   ],
   "source": [
    "df[df.zscore_flyer.abs() > 2]"
   ]
  },
  {
   "cell_type": "markdown",
   "metadata": {},
   "source": [
    "__________________________________"
   ]
  },
  {
   "cell_type": "markdown",
   "metadata": {},
   "source": [
    "#### 2b. Do these make sense?"
   ]
  },
  {
   "cell_type": "code",
   "execution_count": null,
   "metadata": {},
   "outputs": [],
   "source": [
    "#see below"
   ]
  },
  {
   "cell_type": "markdown",
   "metadata": {},
   "source": [
    "#### 2c. Should certain outliers be kept or removed?"
   ]
  },
  {
   "cell_type": "markdown",
   "metadata": {},
   "source": [
    "remove/correct: \n",
    "- high temp of 212\n",
    "- flyer of -38"
   ]
  },
  {
   "cell_type": "code",
   "execution_count": 28,
   "metadata": {},
   "outputs": [
    {
     "data": {
      "text/html": [
       "<div>\n",
       "<style scoped>\n",
       "    .dataframe tbody tr th:only-of-type {\n",
       "        vertical-align: middle;\n",
       "    }\n",
       "\n",
       "    .dataframe tbody tr th {\n",
       "        vertical-align: top;\n",
       "    }\n",
       "\n",
       "    .dataframe thead th {\n",
       "        text-align: right;\n",
       "    }\n",
       "</style>\n",
       "<table border=\"1\" class=\"dataframe\">\n",
       "  <thead>\n",
       "    <tr style=\"text-align: right;\">\n",
       "      <th></th>\n",
       "      <th>Day</th>\n",
       "      <th>Temperature</th>\n",
       "      <th>Rainfall</th>\n",
       "      <th>Flyers</th>\n",
       "      <th>Price</th>\n",
       "      <th>Sales</th>\n",
       "      <th>Month</th>\n",
       "      <th>Year</th>\n",
       "      <th>z_score_Temperature</th>\n",
       "      <th>z_score_Rainfall</th>\n",
       "      <th>z_score_Flyers</th>\n",
       "    </tr>\n",
       "    <tr>\n",
       "      <th>Date</th>\n",
       "      <th></th>\n",
       "      <th></th>\n",
       "      <th></th>\n",
       "      <th></th>\n",
       "      <th></th>\n",
       "      <th></th>\n",
       "      <th></th>\n",
       "      <th></th>\n",
       "      <th></th>\n",
       "      <th></th>\n",
       "      <th></th>\n",
       "    </tr>\n",
       "  </thead>\n",
       "  <tbody>\n",
       "    <tr>\n",
       "      <th>2017-11-19</th>\n",
       "      <td>Sunday</td>\n",
       "      <td>55.9</td>\n",
       "      <td>0.87</td>\n",
       "      <td>34</td>\n",
       "      <td>0.5</td>\n",
       "      <td>23</td>\n",
       "      <td>November</td>\n",
       "      <td>2017</td>\n",
       "      <td>-0.294409</td>\n",
       "      <td>0.160748</td>\n",
       "      <td>-0.442762</td>\n",
       "    </tr>\n",
       "    <tr>\n",
       "      <th>2017-11-20</th>\n",
       "      <td>Monday</td>\n",
       "      <td>55.6</td>\n",
       "      <td>0.87</td>\n",
       "      <td>41</td>\n",
       "      <td>0.5</td>\n",
       "      <td>22</td>\n",
       "      <td>November</td>\n",
       "      <td>2017</td>\n",
       "      <td>-0.310997</td>\n",
       "      <td>0.160748</td>\n",
       "      <td>0.064983</td>\n",
       "    </tr>\n",
       "    <tr>\n",
       "      <th>2017-11-21</th>\n",
       "      <td>Tuesday</td>\n",
       "      <td>47.0</td>\n",
       "      <td>0.95</td>\n",
       "      <td>-38</td>\n",
       "      <td>0.5</td>\n",
       "      <td>20</td>\n",
       "      <td>November</td>\n",
       "      <td>2017</td>\n",
       "      <td>-0.786506</td>\n",
       "      <td>0.452836</td>\n",
       "      <td>-5.665283</td>\n",
       "    </tr>\n",
       "    <tr>\n",
       "      <th>2017-11-22</th>\n",
       "      <td>Wednesday</td>\n",
       "      <td>48.7</td>\n",
       "      <td>1.00</td>\n",
       "      <td>40</td>\n",
       "      <td>0.5</td>\n",
       "      <td>19</td>\n",
       "      <td>November</td>\n",
       "      <td>2017</td>\n",
       "      <td>-0.692510</td>\n",
       "      <td>0.635391</td>\n",
       "      <td>-0.007552</td>\n",
       "    </tr>\n",
       "    <tr>\n",
       "      <th>2017-11-23</th>\n",
       "      <td>Thursday</td>\n",
       "      <td>51.9</td>\n",
       "      <td>0.87</td>\n",
       "      <td>47</td>\n",
       "      <td>0.5</td>\n",
       "      <td>23</td>\n",
       "      <td>November</td>\n",
       "      <td>2017</td>\n",
       "      <td>-0.515576</td>\n",
       "      <td>0.160748</td>\n",
       "      <td>0.500194</td>\n",
       "    </tr>\n",
       "  </tbody>\n",
       "</table>\n",
       "</div>"
      ],
      "text/plain": [
       "                  Day  Temperature  Rainfall  Flyers  Price  Sales     Month  \\\n",
       "Date                                                                           \n",
       "2017-11-19     Sunday         55.9      0.87      34    0.5     23  November   \n",
       "2017-11-20     Monday         55.6      0.87      41    0.5     22  November   \n",
       "2017-11-21    Tuesday         47.0      0.95     -38    0.5     20  November   \n",
       "2017-11-22  Wednesday         48.7      1.00      40    0.5     19  November   \n",
       "2017-11-23   Thursday         51.9      0.87      47    0.5     23  November   \n",
       "\n",
       "            Year  z_score_Temperature  z_score_Rainfall  z_score_Flyers  \n",
       "Date                                                                     \n",
       "2017-11-19  2017            -0.294409          0.160748       -0.442762  \n",
       "2017-11-20  2017            -0.310997          0.160748        0.064983  \n",
       "2017-11-21  2017            -0.786506          0.452836       -5.665283  \n",
       "2017-11-22  2017            -0.692510          0.635391       -0.007552  \n",
       "2017-11-23  2017            -0.515576          0.160748        0.500194  "
      ]
     },
     "execution_count": 28,
     "metadata": {},
     "output_type": "execute_result"
    }
   ],
   "source": [
    "#negative flyer day was 11-21\n",
    "df.loc['2017-11-19': '2017-11-23']\n",
    "\n",
    "#looks like (-) was a clerical error.\n",
    "#change to 38"
   ]
  },
  {
   "cell_type": "code",
   "execution_count": 29,
   "metadata": {},
   "outputs": [],
   "source": [
    "#this will remove any negative values\n",
    "df['Flyers'] = df.Flyers.abs()"
   ]
  },
  {
   "cell_type": "code",
   "execution_count": 30,
   "metadata": {},
   "outputs": [
    {
     "data": {
      "text/html": [
       "<div>\n",
       "<style scoped>\n",
       "    .dataframe tbody tr th:only-of-type {\n",
       "        vertical-align: middle;\n",
       "    }\n",
       "\n",
       "    .dataframe tbody tr th {\n",
       "        vertical-align: top;\n",
       "    }\n",
       "\n",
       "    .dataframe thead th {\n",
       "        text-align: right;\n",
       "    }\n",
       "</style>\n",
       "<table border=\"1\" class=\"dataframe\">\n",
       "  <thead>\n",
       "    <tr style=\"text-align: right;\">\n",
       "      <th></th>\n",
       "      <th>Day</th>\n",
       "      <th>Temperature</th>\n",
       "      <th>Rainfall</th>\n",
       "      <th>Flyers</th>\n",
       "      <th>Price</th>\n",
       "      <th>Sales</th>\n",
       "      <th>Month</th>\n",
       "      <th>Year</th>\n",
       "      <th>z_score_Temperature</th>\n",
       "      <th>z_score_Rainfall</th>\n",
       "      <th>z_score_Flyers</th>\n",
       "    </tr>\n",
       "    <tr>\n",
       "      <th>Date</th>\n",
       "      <th></th>\n",
       "      <th></th>\n",
       "      <th></th>\n",
       "      <th></th>\n",
       "      <th></th>\n",
       "      <th></th>\n",
       "      <th></th>\n",
       "      <th></th>\n",
       "      <th></th>\n",
       "      <th></th>\n",
       "      <th></th>\n",
       "    </tr>\n",
       "  </thead>\n",
       "  <tbody>\n",
       "    <tr>\n",
       "      <th>2017-11-19</th>\n",
       "      <td>Sunday</td>\n",
       "      <td>55.9</td>\n",
       "      <td>0.87</td>\n",
       "      <td>34</td>\n",
       "      <td>0.5</td>\n",
       "      <td>23</td>\n",
       "      <td>November</td>\n",
       "      <td>2017</td>\n",
       "      <td>-0.294409</td>\n",
       "      <td>0.160748</td>\n",
       "      <td>-0.442762</td>\n",
       "    </tr>\n",
       "    <tr>\n",
       "      <th>2017-11-20</th>\n",
       "      <td>Monday</td>\n",
       "      <td>55.6</td>\n",
       "      <td>0.87</td>\n",
       "      <td>41</td>\n",
       "      <td>0.5</td>\n",
       "      <td>22</td>\n",
       "      <td>November</td>\n",
       "      <td>2017</td>\n",
       "      <td>-0.310997</td>\n",
       "      <td>0.160748</td>\n",
       "      <td>0.064983</td>\n",
       "    </tr>\n",
       "    <tr>\n",
       "      <th>2017-11-21</th>\n",
       "      <td>Tuesday</td>\n",
       "      <td>47.0</td>\n",
       "      <td>0.95</td>\n",
       "      <td>38</td>\n",
       "      <td>0.5</td>\n",
       "      <td>20</td>\n",
       "      <td>November</td>\n",
       "      <td>2017</td>\n",
       "      <td>-0.786506</td>\n",
       "      <td>0.452836</td>\n",
       "      <td>-5.665283</td>\n",
       "    </tr>\n",
       "    <tr>\n",
       "      <th>2017-11-22</th>\n",
       "      <td>Wednesday</td>\n",
       "      <td>48.7</td>\n",
       "      <td>1.00</td>\n",
       "      <td>40</td>\n",
       "      <td>0.5</td>\n",
       "      <td>19</td>\n",
       "      <td>November</td>\n",
       "      <td>2017</td>\n",
       "      <td>-0.692510</td>\n",
       "      <td>0.635391</td>\n",
       "      <td>-0.007552</td>\n",
       "    </tr>\n",
       "    <tr>\n",
       "      <th>2017-11-23</th>\n",
       "      <td>Thursday</td>\n",
       "      <td>51.9</td>\n",
       "      <td>0.87</td>\n",
       "      <td>47</td>\n",
       "      <td>0.5</td>\n",
       "      <td>23</td>\n",
       "      <td>November</td>\n",
       "      <td>2017</td>\n",
       "      <td>-0.515576</td>\n",
       "      <td>0.160748</td>\n",
       "      <td>0.500194</td>\n",
       "    </tr>\n",
       "  </tbody>\n",
       "</table>\n",
       "</div>"
      ],
      "text/plain": [
       "                  Day  Temperature  Rainfall  Flyers  Price  Sales     Month  \\\n",
       "Date                                                                           \n",
       "2017-11-19     Sunday         55.9      0.87      34    0.5     23  November   \n",
       "2017-11-20     Monday         55.6      0.87      41    0.5     22  November   \n",
       "2017-11-21    Tuesday         47.0      0.95      38    0.5     20  November   \n",
       "2017-11-22  Wednesday         48.7      1.00      40    0.5     19  November   \n",
       "2017-11-23   Thursday         51.9      0.87      47    0.5     23  November   \n",
       "\n",
       "            Year  z_score_Temperature  z_score_Rainfall  z_score_Flyers  \n",
       "Date                                                                     \n",
       "2017-11-19  2017            -0.294409          0.160748       -0.442762  \n",
       "2017-11-20  2017            -0.310997          0.160748        0.064983  \n",
       "2017-11-21  2017            -0.786506          0.452836       -5.665283  \n",
       "2017-11-22  2017            -0.692510          0.635391       -0.007552  \n",
       "2017-11-23  2017            -0.515576          0.160748        0.500194  "
      ]
     },
     "execution_count": 30,
     "metadata": {},
     "output_type": "execute_result"
    }
   ],
   "source": [
    "#make sure negative was removed\n",
    "df.loc['2017-11-19': '2017-11-23']"
   ]
  },
  {
   "cell_type": "code",
   "execution_count": 31,
   "metadata": {},
   "outputs": [
    {
     "data": {
      "text/html": [
       "<div>\n",
       "<style scoped>\n",
       "    .dataframe tbody tr th:only-of-type {\n",
       "        vertical-align: middle;\n",
       "    }\n",
       "\n",
       "    .dataframe tbody tr th {\n",
       "        vertical-align: top;\n",
       "    }\n",
       "\n",
       "    .dataframe thead th {\n",
       "        text-align: right;\n",
       "    }\n",
       "</style>\n",
       "<table border=\"1\" class=\"dataframe\">\n",
       "  <thead>\n",
       "    <tr style=\"text-align: right;\">\n",
       "      <th></th>\n",
       "      <th>Day</th>\n",
       "      <th>Temperature</th>\n",
       "      <th>Rainfall</th>\n",
       "      <th>Flyers</th>\n",
       "      <th>Price</th>\n",
       "      <th>Sales</th>\n",
       "      <th>Month</th>\n",
       "      <th>Year</th>\n",
       "      <th>z_score_Temperature</th>\n",
       "      <th>z_score_Rainfall</th>\n",
       "      <th>z_score_Flyers</th>\n",
       "    </tr>\n",
       "    <tr>\n",
       "      <th>Date</th>\n",
       "      <th></th>\n",
       "      <th></th>\n",
       "      <th></th>\n",
       "      <th></th>\n",
       "      <th></th>\n",
       "      <th></th>\n",
       "      <th></th>\n",
       "      <th></th>\n",
       "      <th></th>\n",
       "      <th></th>\n",
       "      <th></th>\n",
       "    </tr>\n",
       "  </thead>\n",
       "  <tbody>\n",
       "    <tr>\n",
       "      <th>2017-02-08</th>\n",
       "      <td>Wednesday</td>\n",
       "      <td>52.6</td>\n",
       "      <td>0.87</td>\n",
       "      <td>31</td>\n",
       "      <td>0.5</td>\n",
       "      <td>22</td>\n",
       "      <td>February</td>\n",
       "      <td>2017</td>\n",
       "      <td>-0.476872</td>\n",
       "      <td>0.160748</td>\n",
       "      <td>-0.660367</td>\n",
       "    </tr>\n",
       "    <tr>\n",
       "      <th>2017-02-09</th>\n",
       "      <td>Thursday</td>\n",
       "      <td>42.7</td>\n",
       "      <td>1.00</td>\n",
       "      <td>39</td>\n",
       "      <td>0.5</td>\n",
       "      <td>19</td>\n",
       "      <td>February</td>\n",
       "      <td>2017</td>\n",
       "      <td>-1.024260</td>\n",
       "      <td>0.635391</td>\n",
       "      <td>-0.080087</td>\n",
       "    </tr>\n",
       "    <tr>\n",
       "      <th>2017-02-10</th>\n",
       "      <td>Friday</td>\n",
       "      <td>50.0</td>\n",
       "      <td>0.91</td>\n",
       "      <td>40</td>\n",
       "      <td>0.5</td>\n",
       "      <td>20</td>\n",
       "      <td>February</td>\n",
       "      <td>2017</td>\n",
       "      <td>-0.620631</td>\n",
       "      <td>0.306792</td>\n",
       "      <td>-0.007552</td>\n",
       "    </tr>\n",
       "    <tr>\n",
       "      <th>2017-02-11</th>\n",
       "      <td>Saturday</td>\n",
       "      <td>212.0</td>\n",
       "      <td>0.91</td>\n",
       "      <td>35</td>\n",
       "      <td>0.5</td>\n",
       "      <td>21</td>\n",
       "      <td>February</td>\n",
       "      <td>2017</td>\n",
       "      <td>8.336627</td>\n",
       "      <td>0.306792</td>\n",
       "      <td>-0.370227</td>\n",
       "    </tr>\n",
       "    <tr>\n",
       "      <th>2017-02-12</th>\n",
       "      <td>Sunday</td>\n",
       "      <td>55.6</td>\n",
       "      <td>0.83</td>\n",
       "      <td>41</td>\n",
       "      <td>0.5</td>\n",
       "      <td>22</td>\n",
       "      <td>February</td>\n",
       "      <td>2017</td>\n",
       "      <td>-0.310997</td>\n",
       "      <td>0.014704</td>\n",
       "      <td>0.064983</td>\n",
       "    </tr>\n",
       "    <tr>\n",
       "      <th>2017-02-13</th>\n",
       "      <td>Monday</td>\n",
       "      <td>46.4</td>\n",
       "      <td>1.11</td>\n",
       "      <td>34</td>\n",
       "      <td>0.5</td>\n",
       "      <td>18</td>\n",
       "      <td>February</td>\n",
       "      <td>2017</td>\n",
       "      <td>-0.819681</td>\n",
       "      <td>1.037012</td>\n",
       "      <td>-0.442762</td>\n",
       "    </tr>\n",
       "  </tbody>\n",
       "</table>\n",
       "</div>"
      ],
      "text/plain": [
       "                  Day  Temperature  Rainfall  Flyers  Price  Sales     Month  \\\n",
       "Date                                                                           \n",
       "2017-02-08  Wednesday         52.6      0.87      31    0.5     22  February   \n",
       "2017-02-09   Thursday         42.7      1.00      39    0.5     19  February   \n",
       "2017-02-10     Friday         50.0      0.91      40    0.5     20  February   \n",
       "2017-02-11   Saturday        212.0      0.91      35    0.5     21  February   \n",
       "2017-02-12     Sunday         55.6      0.83      41    0.5     22  February   \n",
       "2017-02-13     Monday         46.4      1.11      34    0.5     18  February   \n",
       "\n",
       "            Year  z_score_Temperature  z_score_Rainfall  z_score_Flyers  \n",
       "Date                                                                     \n",
       "2017-02-08  2017            -0.476872          0.160748       -0.660367  \n",
       "2017-02-09  2017            -1.024260          0.635391       -0.080087  \n",
       "2017-02-10  2017            -0.620631          0.306792       -0.007552  \n",
       "2017-02-11  2017             8.336627          0.306792       -0.370227  \n",
       "2017-02-12  2017            -0.310997          0.014704        0.064983  \n",
       "2017-02-13  2017            -0.819681          1.037012       -0.442762  "
      ]
     },
     "execution_count": 31,
     "metadata": {},
     "output_type": "execute_result"
    }
   ],
   "source": [
    "#high temp day was 2-11\n",
    "#take a look around that day\n",
    "df.loc['2017-02-08': '2017-02-13']"
   ]
  },
  {
   "cell_type": "code",
   "execution_count": 33,
   "metadata": {},
   "outputs": [
    {
     "data": {
      "text/plain": [
       "Day                    Saturday\n",
       "Temperature                 212\n",
       "Rainfall                   0.91\n",
       "Flyers                       35\n",
       "Price                       0.5\n",
       "Sales                        21\n",
       "Month                  February\n",
       "Year                       2017\n",
       "z_score_Temperature     8.33663\n",
       "z_score_Rainfall       0.306792\n",
       "z_score_Flyers        -0.370227\n",
       "Name: 2017-02-11 00:00:00, dtype: object"
      ]
     },
     "execution_count": 33,
     "metadata": {},
     "output_type": "execute_result"
    }
   ],
   "source": [
    "#shows all data for THAT day\n",
    "df.loc['2017-02-11']"
   ]
  },
  {
   "cell_type": "code",
   "execution_count": 34,
   "metadata": {},
   "outputs": [],
   "source": [
    "#will take value of day before to correct temperature\n",
    "df.loc['2017-02-11', 'Temperature'] = df.loc['2017-02-10']['Temperature']"
   ]
  },
  {
   "cell_type": "code",
   "execution_count": 35,
   "metadata": {},
   "outputs": [
    {
     "data": {
      "text/html": [
       "<div>\n",
       "<style scoped>\n",
       "    .dataframe tbody tr th:only-of-type {\n",
       "        vertical-align: middle;\n",
       "    }\n",
       "\n",
       "    .dataframe tbody tr th {\n",
       "        vertical-align: top;\n",
       "    }\n",
       "\n",
       "    .dataframe thead th {\n",
       "        text-align: right;\n",
       "    }\n",
       "</style>\n",
       "<table border=\"1\" class=\"dataframe\">\n",
       "  <thead>\n",
       "    <tr style=\"text-align: right;\">\n",
       "      <th></th>\n",
       "      <th>Day</th>\n",
       "      <th>Temperature</th>\n",
       "      <th>Rainfall</th>\n",
       "      <th>Flyers</th>\n",
       "      <th>Price</th>\n",
       "      <th>Sales</th>\n",
       "      <th>Month</th>\n",
       "      <th>Year</th>\n",
       "      <th>z_score_Temperature</th>\n",
       "      <th>z_score_Rainfall</th>\n",
       "      <th>z_score_Flyers</th>\n",
       "    </tr>\n",
       "    <tr>\n",
       "      <th>Date</th>\n",
       "      <th></th>\n",
       "      <th></th>\n",
       "      <th></th>\n",
       "      <th></th>\n",
       "      <th></th>\n",
       "      <th></th>\n",
       "      <th></th>\n",
       "      <th></th>\n",
       "      <th></th>\n",
       "      <th></th>\n",
       "      <th></th>\n",
       "    </tr>\n",
       "  </thead>\n",
       "  <tbody>\n",
       "    <tr>\n",
       "      <th>2017-02-08</th>\n",
       "      <td>Wednesday</td>\n",
       "      <td>52.6</td>\n",
       "      <td>0.87</td>\n",
       "      <td>31</td>\n",
       "      <td>0.5</td>\n",
       "      <td>22</td>\n",
       "      <td>February</td>\n",
       "      <td>2017</td>\n",
       "      <td>-0.476872</td>\n",
       "      <td>0.160748</td>\n",
       "      <td>-0.660367</td>\n",
       "    </tr>\n",
       "    <tr>\n",
       "      <th>2017-02-09</th>\n",
       "      <td>Thursday</td>\n",
       "      <td>42.7</td>\n",
       "      <td>1.00</td>\n",
       "      <td>39</td>\n",
       "      <td>0.5</td>\n",
       "      <td>19</td>\n",
       "      <td>February</td>\n",
       "      <td>2017</td>\n",
       "      <td>-1.024260</td>\n",
       "      <td>0.635391</td>\n",
       "      <td>-0.080087</td>\n",
       "    </tr>\n",
       "    <tr>\n",
       "      <th>2017-02-10</th>\n",
       "      <td>Friday</td>\n",
       "      <td>50.0</td>\n",
       "      <td>0.91</td>\n",
       "      <td>40</td>\n",
       "      <td>0.5</td>\n",
       "      <td>20</td>\n",
       "      <td>February</td>\n",
       "      <td>2017</td>\n",
       "      <td>-0.620631</td>\n",
       "      <td>0.306792</td>\n",
       "      <td>-0.007552</td>\n",
       "    </tr>\n",
       "    <tr>\n",
       "      <th>2017-02-11</th>\n",
       "      <td>Saturday</td>\n",
       "      <td>50.0</td>\n",
       "      <td>0.91</td>\n",
       "      <td>35</td>\n",
       "      <td>0.5</td>\n",
       "      <td>21</td>\n",
       "      <td>February</td>\n",
       "      <td>2017</td>\n",
       "      <td>8.336627</td>\n",
       "      <td>0.306792</td>\n",
       "      <td>-0.370227</td>\n",
       "    </tr>\n",
       "    <tr>\n",
       "      <th>2017-02-12</th>\n",
       "      <td>Sunday</td>\n",
       "      <td>55.6</td>\n",
       "      <td>0.83</td>\n",
       "      <td>41</td>\n",
       "      <td>0.5</td>\n",
       "      <td>22</td>\n",
       "      <td>February</td>\n",
       "      <td>2017</td>\n",
       "      <td>-0.310997</td>\n",
       "      <td>0.014704</td>\n",
       "      <td>0.064983</td>\n",
       "    </tr>\n",
       "    <tr>\n",
       "      <th>2017-02-13</th>\n",
       "      <td>Monday</td>\n",
       "      <td>46.4</td>\n",
       "      <td>1.11</td>\n",
       "      <td>34</td>\n",
       "      <td>0.5</td>\n",
       "      <td>18</td>\n",
       "      <td>February</td>\n",
       "      <td>2017</td>\n",
       "      <td>-0.819681</td>\n",
       "      <td>1.037012</td>\n",
       "      <td>-0.442762</td>\n",
       "    </tr>\n",
       "  </tbody>\n",
       "</table>\n",
       "</div>"
      ],
      "text/plain": [
       "                  Day  Temperature  Rainfall  Flyers  Price  Sales     Month  \\\n",
       "Date                                                                           \n",
       "2017-02-08  Wednesday         52.6      0.87      31    0.5     22  February   \n",
       "2017-02-09   Thursday         42.7      1.00      39    0.5     19  February   \n",
       "2017-02-10     Friday         50.0      0.91      40    0.5     20  February   \n",
       "2017-02-11   Saturday         50.0      0.91      35    0.5     21  February   \n",
       "2017-02-12     Sunday         55.6      0.83      41    0.5     22  February   \n",
       "2017-02-13     Monday         46.4      1.11      34    0.5     18  February   \n",
       "\n",
       "            Year  z_score_Temperature  z_score_Rainfall  z_score_Flyers  \n",
       "Date                                                                     \n",
       "2017-02-08  2017            -0.476872          0.160748       -0.660367  \n",
       "2017-02-09  2017            -1.024260          0.635391       -0.080087  \n",
       "2017-02-10  2017            -0.620631          0.306792       -0.007552  \n",
       "2017-02-11  2017             8.336627          0.306792       -0.370227  \n",
       "2017-02-12  2017            -0.310997          0.014704        0.064983  \n",
       "2017-02-13  2017            -0.819681          1.037012       -0.442762  "
      ]
     },
     "execution_count": 35,
     "metadata": {},
     "output_type": "execute_result"
    }
   ],
   "source": [
    "#make sure temp was changed\n",
    "df.loc['2017-02-08': '2017-02-13']"
   ]
  },
  {
   "cell_type": "markdown",
   "metadata": {},
   "source": [
    "### Takeaways:\n",
    "- Flyers was changed from -38 to 38\n",
    "- Temperature was changed from 212 to 50 (temp of day prior)"
   ]
  },
  {
   "cell_type": "markdown",
   "metadata": {},
   "source": [
    "<hr style=\"border:2px solid black\"> </hr>"
   ]
  },
  {
   "cell_type": "markdown",
   "metadata": {},
   "source": [
    "### 3. Now use a 3 sigma decision rule to isolate the outliers in the normally distributed columns from lemonade.csv"
   ]
  },
  {
   "cell_type": "code",
   "execution_count": 27,
   "metadata": {},
   "outputs": [
    {
     "name": "stdout",
     "output_type": "stream",
     "text": [
      "Temperature\n",
      "                 Day  Temperature  Rainfall  Flyers  Price  Sales     Month  \\\n",
      "Date                                                                          \n",
      "2017-02-11  Saturday        212.0      0.91      35    0.5     21  February   \n",
      "\n",
      "            Year  z_score_Temperature  z_score_Rainfall  z_score_Flyers  \n",
      "Date                                                                     \n",
      "2017-02-11  2017             8.336627          0.306792       -0.370227  \n",
      "----------------\n",
      "\n",
      "Rainfall\n",
      "                Day  Temperature  Rainfall  Flyers  Price  Sales     Month  \\\n",
      "Date                                                                         \n",
      "2017-01-01   Sunday         27.0      2.00      15    0.5     10   January   \n",
      "2017-01-16   Monday         30.6      1.67      24    0.5     12   January   \n",
      "2017-12-05  Tuesday         22.0      1.82      11    0.5     10  December   \n",
      "2017-12-10   Sunday         31.3      1.82      15    0.5     11  December   \n",
      "2017-12-31   Sunday         15.1      2.50       9    0.5      7  December   \n",
      "\n",
      "            Year  z_score_Temperature  z_score_Rainfall  z_score_Flyers  \n",
      "Date                                                                     \n",
      "2017-01-01  2017            -1.892340          4.286488       -1.820927  \n",
      "2017-01-16  2017            -1.693290          3.081626       -1.168112  \n",
      "2017-12-05  2017            -2.168799          3.629291       -2.111067  \n",
      "2017-12-10  2017            -1.654586          3.629291       -1.820927  \n",
      "2017-12-31  2017            -2.550311          6.112037       -2.256137  \n",
      "----------------\n",
      "\n",
      "Flyers\n",
      "                Day  Temperature  Rainfall  Flyers  Price  Sales     Month  \\\n",
      "Date                                                                         \n",
      "2017-11-21  Tuesday         47.0      0.95     -38    0.5     20  November   \n",
      "\n",
      "            Year  z_score_Temperature  z_score_Rainfall  z_score_Flyers  \n",
      "Date                                                                     \n",
      "2017-11-21  2017            -0.786506          0.452836       -5.665283  \n",
      "----------------\n",
      "\n"
     ]
    }
   ],
   "source": [
    "for col in norcols:\n",
    "    df['z_score_'+col] = (df[col] -df[col].mean()) /df[col].std()\n",
    "    print(col)\n",
    "    print(df[df['z_score_'+ col].abs() >3])\n",
    "    print('----------------\\n')"
   ]
  },
  {
   "cell_type": "code",
   "execution_count": null,
   "metadata": {},
   "outputs": [],
   "source": []
  }
 ],
 "metadata": {
  "kernelspec": {
   "display_name": "Python 3",
   "language": "python",
   "name": "python3"
  },
  "language_info": {
   "codemirror_mode": {
    "name": "ipython",
    "version": 3
   },
   "file_extension": ".py",
   "mimetype": "text/x-python",
   "name": "python",
   "nbconvert_exporter": "python",
   "pygments_lexer": "ipython3",
   "version": "3.8.5"
  }
 },
 "nbformat": 4,
 "nbformat_minor": 4
}
