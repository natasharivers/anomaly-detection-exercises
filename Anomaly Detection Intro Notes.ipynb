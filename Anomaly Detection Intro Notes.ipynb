{
 "cells": [
  {
   "cell_type": "markdown",
   "metadata": {},
   "source": [
    "# Anomaly Detection Intro"
   ]
  },
  {
   "cell_type": "markdown",
   "metadata": {},
   "source": [
    "- finding data that is different from the data around it\n",
    "- finding differences in trends"
   ]
  },
  {
   "cell_type": "markdown",
   "metadata": {},
   "source": [
    "## What is Anomaly Detection?\n",
    "- analytic investigation of datapoints that are different from their peers\n",
    "    - examples of Anomaly Detection: \n",
    "        - an outlier \n",
    "        - extraordinary event\n",
    "        - a novelty\n",
    "        - any other deviation we find through stats modeling"
   ]
  },
  {
   "cell_type": "markdown",
   "metadata": {},
   "source": [
    "<hr style=\"border:2px solid black\"> </hr>"
   ]
  },
  {
   "cell_type": "markdown",
   "metadata": {},
   "source": [
    "## Vocab:\n",
    "   - **Anomaly**: anything unusual, unexpected or surprising\n",
    "\n",
    "<br>\n",
    "\n",
    "   - **Outlier**: observation that lies an abnormal distance from the other values\n",
    "       - this is NOW our **target**, not trash\n",
    "       - Use IQR or Z-Score\n",
    "\n",
    "<br>\n",
    "\n",
    "   - **Novelty**: an unobserved pattern in new observations not ncluded in training set\n",
    "       - 'zero data tac' \n",
    "\n",
    "<br>\n",
    "\n",
    "   - **Noise**: data points that collectively represent aberrations in otherise meaningful patterned data\n",
    "       - something we would want to ideally smooth out (resampling)\n",
    "       - the way we used to treat outliers\n",
    "       - clerical errors (11 bedroom house, thats 100sqft)"
   ]
  },
  {
   "cell_type": "markdown",
   "metadata": {},
   "source": [
    "<hr style=\"border:2px solid black\"> </hr>"
   ]
  },
  {
   "cell_type": "markdown",
   "metadata": {},
   "source": [
    "## Applications:\n",
    "\n",
    "- **Fraud Detection**: an atypical transaction\n",
    "    - need a lot of information about that one customer to determine what is atypical\n",
    "    - transactional information (debit card, cc transactions)\n",
    "    \n",
    "<br>\n",
    "\n",
    "- **Malware and Information Security**: prevention of network intrusion \n",
    "    - restricted workspaces \n",
    "    - company secrets\n",
    "    - automation of blue-team operations\n",
    "    - cyber intelligence\n",
    "\n",
    "<br>\n",
    "\n",
    "- **Medical Scans**: observation of abberations that could be indicators of particularly rare or difficult to detect illnesses or conditions\n",
    "    - cancer scans\n",
    "    - heart diseases\n",
    "    "
   ]
  },
  {
   "cell_type": "markdown",
   "metadata": {},
   "source": [
    "<hr style=\"border:2px solid black\"> </hr>"
   ]
  },
  {
   "cell_type": "markdown",
   "metadata": {},
   "source": [
    "## Domain Knowledge MATTERS\n",
    "- the best way to know what's abnormal (anomaly)... is to know what is 'normal'\n",
    "- If you don't know what the trends typically are, it would be hard to find patters that are not usual"
   ]
  },
  {
   "cell_type": "markdown",
   "metadata": {},
   "source": [
    "<hr style=\"border:2px solid black\"> </hr>"
   ]
  },
  {
   "cell_type": "markdown",
   "metadata": {},
   "source": [
    "## Types of Anomalies:\n",
    "- **use case**: long response times, high error rates\n",
    "\n",
    "<br>\n",
    "\n",
    "- **point anomalies**:\n",
    "     - fraud alert due to large number of dollars spent\n",
    "\n",
    "<br>\n",
    "\n",
    "- **contextual anomalies**: abnormalities that is context sepcific\n",
    "     - ex: accessing files at 2am is anomaly but at 4pm it isnt\n",
    "     \n",
    "<br>\n",
    "\n",
    "- **collective**: a set of data instances collective helps in detecting anomalies\n",
    "    - ex: attempted data copy from a remote to local machine flagged due to comnination of the events \n",
    "\n",
    "<br>\n",
    "\n",
    "- **noise**: concerned with identifying an unobserved pattern in new observations outside of training set\n",
    "    - ex: sudden interest in the new Youtube channel during Christmas\n",
    "    \n",
    "<br>\n",
    "\n",
    "- **novelty**: the occurance of unwanted observations\n",
    "    - ex: resampling in time series"
   ]
  },
  {
   "cell_type": "markdown",
   "metadata": {},
   "source": [
    "<hr style=\"border:2px solid black\"> </hr>"
   ]
  },
  {
   "cell_type": "markdown",
   "metadata": {},
   "source": [
    "## Techniques\n",
    "- **Statistical Methods**\n",
    "    - mean, median, mode, quantile\n",
    "    - standard deviation\n",
    "    - moving averages (not good with 'noisy' data)\n",
    "\n",
    "<br>\n",
    "\n",
    "- **Applied Classifiers**\n",
    "    - Support Vector Machine: one-class classifier\n",
    "        - (ex): only have ONE option. you teach your data everything about 'chairs'. it only knows that its chair or NOT chair\n",
    "    - Random Forest: Isolation Forest\n",
    "        - number of node splits that it takes\n",
    "<br>\n",
    "\n",
    "- **Clustering**\n",
    "    - KMneas: small clusters or atypical distances from centroid\n",
    "        - x amount of clusters, one is particularly small... it's likely because there is something different (abnormal) about that specific cluster\n",
    "    - DBSCAN: density based clustering\n",
    "         - similar to KMeans\n",
    "         - more taxing computationally\n",
    "         - don't identify the number of clusters\n",
    "\n",
    "<br>\n",
    "\n",
    "- **Density**\n",
    "    - KNN: Local Outlier Factor\n",
    "        - taking distances from the points and figuring out which point looks different\n",
    "        - which distances are different\n",
    "            - (ex): point A and point B are 5mm apart. point B and point C are 5mm apart. point C and point D are 30mm apart!"
   ]
  },
  {
   "cell_type": "code",
   "execution_count": null,
   "metadata": {},
   "outputs": [],
   "source": []
  }
 ],
 "metadata": {
  "kernelspec": {
   "display_name": "Python 3",
   "language": "python",
   "name": "python3"
  },
  "language_info": {
   "codemirror_mode": {
    "name": "ipython",
    "version": 3
   },
   "file_extension": ".py",
   "mimetype": "text/x-python",
   "name": "python",
   "nbconvert_exporter": "python",
   "pygments_lexer": "ipython3",
   "version": "3.8.5"
  }
 },
 "nbformat": 4,
 "nbformat_minor": 4
}
